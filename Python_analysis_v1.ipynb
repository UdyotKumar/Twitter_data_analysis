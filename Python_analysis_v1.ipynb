{
 "cells": [
  {
   "cell_type": "markdown",
   "metadata": {},
   "source": [
    "# Install required packages"
   ]
  },
  {
   "cell_type": "code",
   "execution_count": 4,
   "metadata": {
    "collapsed": true
   },
   "outputs": [
    {
     "name": "stdout",
     "output_type": "stream",
     "text": [
      "Requirement already satisfied: psycopg2-binary in /opt/anaconda3/lib/python3.8/site-packages (2.8.6)\n",
      "Note: you may need to restart the kernel to use updated packages.\n"
     ]
    }
   ],
   "source": [
    "#for connection with postgres\n",
    "pip install psycopg2-binary"
   ]
  },
  {
   "cell_type": "code",
   "execution_count": null,
   "metadata": {},
   "outputs": [],
   "source": [
    "#for connection with twitter\n",
    "pip install tweepy"
   ]
  },
  {
   "cell_type": "code",
   "execution_count": 36,
   "metadata": {
    "collapsed": true
   },
   "outputs": [
    {
     "name": "stdout",
     "output_type": "stream",
     "text": [
      "Collecting textblob\n",
      "  Downloading textblob-0.15.3-py2.py3-none-any.whl (636 kB)\n",
      "\u001b[K     |████████████████████████████████| 636 kB 3.0 MB/s eta 0:00:01\n",
      "\u001b[?25hRequirement already satisfied: nltk>=3.1 in /opt/anaconda3/lib/python3.8/site-packages (from textblob) (3.5)\n",
      "Requirement already satisfied: tqdm in /opt/anaconda3/lib/python3.8/site-packages (from nltk>=3.1->textblob) (4.47.0)\n",
      "Requirement already satisfied: joblib in /opt/anaconda3/lib/python3.8/site-packages (from nltk>=3.1->textblob) (0.16.0)\n",
      "Requirement already satisfied: click in /opt/anaconda3/lib/python3.8/site-packages (from nltk>=3.1->textblob) (7.1.2)\n",
      "Requirement already satisfied: regex in /opt/anaconda3/lib/python3.8/site-packages (from nltk>=3.1->textblob) (2020.6.8)\n",
      "Installing collected packages: textblob\n",
      "Successfully installed textblob-0.15.3\n",
      "Note: you may need to restart the kernel to use updated packages.\n"
     ]
    }
   ],
   "source": [
    "# for text processing\n",
    "pip install textblob"
   ]
  },
  {
   "cell_type": "code",
   "execution_count": 207,
   "metadata": {
    "collapsed": true
   },
   "outputs": [
    {
     "name": "stdout",
     "output_type": "stream",
     "text": [
      "Collecting WordCloud\n",
      "  Using cached wordcloud-1.8.1.tar.gz (220 kB)\n",
      "Requirement already satisfied: numpy>=1.6.1 in /opt/anaconda3/lib/python3.8/site-packages (from WordCloud) (1.18.5)\n",
      "Requirement already satisfied: pillow in /opt/anaconda3/lib/python3.8/site-packages (from WordCloud) (7.2.0)\n",
      "Requirement already satisfied: matplotlib in /opt/anaconda3/lib/python3.8/site-packages (from WordCloud) (3.2.2)\n",
      "Requirement already satisfied: kiwisolver>=1.0.1 in /opt/anaconda3/lib/python3.8/site-packages (from matplotlib->WordCloud) (1.2.0)\n",
      "Requirement already satisfied: pyparsing!=2.0.4,!=2.1.2,!=2.1.6,>=2.0.1 in /opt/anaconda3/lib/python3.8/site-packages (from matplotlib->WordCloud) (2.4.7)\n",
      "Requirement already satisfied: cycler>=0.10 in /opt/anaconda3/lib/python3.8/site-packages (from matplotlib->WordCloud) (0.10.0)\n",
      "Requirement already satisfied: python-dateutil>=2.1 in /opt/anaconda3/lib/python3.8/site-packages (from matplotlib->WordCloud) (2.8.1)\n",
      "Requirement already satisfied: six in /opt/anaconda3/lib/python3.8/site-packages (from cycler>=0.10->matplotlib->WordCloud) (1.15.0)\n",
      "Building wheels for collected packages: WordCloud\n",
      "  Building wheel for WordCloud (setup.py) ... \u001b[?25lerror\n",
      "\u001b[31m  ERROR: Command errored out with exit status 1:\n",
      "   command: /opt/anaconda3/bin/python -u -c 'import sys, setuptools, tokenize; sys.argv[0] = '\"'\"'/private/var/folders/nx/54vsr3xx4y7g750jkrsnwfg40000gn/T/pip-install-xzcxha3j/WordCloud/setup.py'\"'\"'; __file__='\"'\"'/private/var/folders/nx/54vsr3xx4y7g750jkrsnwfg40000gn/T/pip-install-xzcxha3j/WordCloud/setup.py'\"'\"';f=getattr(tokenize, '\"'\"'open'\"'\"', open)(__file__);code=f.read().replace('\"'\"'\\r\\n'\"'\"', '\"'\"'\\n'\"'\"');f.close();exec(compile(code, __file__, '\"'\"'exec'\"'\"'))' bdist_wheel -d /private/var/folders/nx/54vsr3xx4y7g750jkrsnwfg40000gn/T/pip-wheel-t7u_bblc\n",
      "       cwd: /private/var/folders/nx/54vsr3xx4y7g750jkrsnwfg40000gn/T/pip-install-xzcxha3j/WordCloud/\n",
      "  Complete output (24 lines):\n",
      "  running bdist_wheel\n",
      "  running build\n",
      "  running build_py\n",
      "  creating build\n",
      "  creating build/lib.macosx-10.9-x86_64-3.8\n",
      "  creating build/lib.macosx-10.9-x86_64-3.8/wordcloud\n",
      "  copying wordcloud/wordcloud_cli.py -> build/lib.macosx-10.9-x86_64-3.8/wordcloud\n",
      "  copying wordcloud/_version.py -> build/lib.macosx-10.9-x86_64-3.8/wordcloud\n",
      "  copying wordcloud/__init__.py -> build/lib.macosx-10.9-x86_64-3.8/wordcloud\n",
      "  copying wordcloud/tokenization.py -> build/lib.macosx-10.9-x86_64-3.8/wordcloud\n",
      "  copying wordcloud/wordcloud.py -> build/lib.macosx-10.9-x86_64-3.8/wordcloud\n",
      "  copying wordcloud/color_from_image.py -> build/lib.macosx-10.9-x86_64-3.8/wordcloud\n",
      "  copying wordcloud/__main__.py -> build/lib.macosx-10.9-x86_64-3.8/wordcloud\n",
      "  copying wordcloud/stopwords -> build/lib.macosx-10.9-x86_64-3.8/wordcloud\n",
      "  copying wordcloud/DroidSansMono.ttf -> build/lib.macosx-10.9-x86_64-3.8/wordcloud\n",
      "  UPDATING build/lib.macosx-10.9-x86_64-3.8/wordcloud/_version.py\n",
      "  set build/lib.macosx-10.9-x86_64-3.8/wordcloud/_version.py to '1.8.1'\n",
      "  running build_ext\n",
      "  building 'wordcloud.query_integral_image' extension\n",
      "  creating build/temp.macosx-10.9-x86_64-3.8\n",
      "  creating build/temp.macosx-10.9-x86_64-3.8/wordcloud\n",
      "  gcc -Wno-unused-result -Wsign-compare -Wunreachable-code -DNDEBUG -g -fwrapv -O3 -Wall -Wstrict-prototypes -I/opt/anaconda3/include -arch x86_64 -I/opt/anaconda3/include -arch x86_64 -I/opt/anaconda3/include/python3.8 -c wordcloud/query_integral_image.c -o build/temp.macosx-10.9-x86_64-3.8/wordcloud/query_integral_image.o\n",
      "  xcrun: error: invalid active developer path (/Library/Developer/CommandLineTools), missing xcrun at: /Library/Developer/CommandLineTools/usr/bin/xcrun\n",
      "  error: command 'gcc' failed with exit status 1\n",
      "  ----------------------------------------\u001b[0m\n",
      "\u001b[31m  ERROR: Failed building wheel for WordCloud\u001b[0m\n",
      "\u001b[?25h  Running setup.py clean for WordCloud\n",
      "Failed to build WordCloud\n",
      "Installing collected packages: WordCloud\n",
      "    Running setup.py install for WordCloud ... \u001b[?25lerror\n",
      "\u001b[31m    ERROR: Command errored out with exit status 1:\n",
      "     command: /opt/anaconda3/bin/python -u -c 'import sys, setuptools, tokenize; sys.argv[0] = '\"'\"'/private/var/folders/nx/54vsr3xx4y7g750jkrsnwfg40000gn/T/pip-install-xzcxha3j/WordCloud/setup.py'\"'\"'; __file__='\"'\"'/private/var/folders/nx/54vsr3xx4y7g750jkrsnwfg40000gn/T/pip-install-xzcxha3j/WordCloud/setup.py'\"'\"';f=getattr(tokenize, '\"'\"'open'\"'\"', open)(__file__);code=f.read().replace('\"'\"'\\r\\n'\"'\"', '\"'\"'\\n'\"'\"');f.close();exec(compile(code, __file__, '\"'\"'exec'\"'\"'))' install --record /private/var/folders/nx/54vsr3xx4y7g750jkrsnwfg40000gn/T/pip-record-54vyh7x0/install-record.txt --single-version-externally-managed --compile --install-headers /opt/anaconda3/include/python3.8/WordCloud\n",
      "         cwd: /private/var/folders/nx/54vsr3xx4y7g750jkrsnwfg40000gn/T/pip-install-xzcxha3j/WordCloud/\n",
      "    Complete output (24 lines):\n",
      "    running install\n",
      "    running build\n",
      "    running build_py\n",
      "    creating build\n",
      "    creating build/lib.macosx-10.9-x86_64-3.8\n",
      "    creating build/lib.macosx-10.9-x86_64-3.8/wordcloud\n",
      "    copying wordcloud/wordcloud_cli.py -> build/lib.macosx-10.9-x86_64-3.8/wordcloud\n",
      "    copying wordcloud/_version.py -> build/lib.macosx-10.9-x86_64-3.8/wordcloud\n",
      "    copying wordcloud/__init__.py -> build/lib.macosx-10.9-x86_64-3.8/wordcloud\n",
      "    copying wordcloud/tokenization.py -> build/lib.macosx-10.9-x86_64-3.8/wordcloud\n",
      "    copying wordcloud/wordcloud.py -> build/lib.macosx-10.9-x86_64-3.8/wordcloud\n",
      "    copying wordcloud/color_from_image.py -> build/lib.macosx-10.9-x86_64-3.8/wordcloud\n",
      "    copying wordcloud/__main__.py -> build/lib.macosx-10.9-x86_64-3.8/wordcloud\n",
      "    copying wordcloud/stopwords -> build/lib.macosx-10.9-x86_64-3.8/wordcloud\n",
      "    copying wordcloud/DroidSansMono.ttf -> build/lib.macosx-10.9-x86_64-3.8/wordcloud\n",
      "    UPDATING build/lib.macosx-10.9-x86_64-3.8/wordcloud/_version.py\n",
      "    set build/lib.macosx-10.9-x86_64-3.8/wordcloud/_version.py to '1.8.1'\n",
      "    running build_ext\n",
      "    building 'wordcloud.query_integral_image' extension\n",
      "    creating build/temp.macosx-10.9-x86_64-3.8\n",
      "    creating build/temp.macosx-10.9-x86_64-3.8/wordcloud\n",
      "    gcc -Wno-unused-result -Wsign-compare -Wunreachable-code -DNDEBUG -g -fwrapv -O3 -Wall -Wstrict-prototypes -I/opt/anaconda3/include -arch x86_64 -I/opt/anaconda3/include -arch x86_64 -I/opt/anaconda3/include/python3.8 -c wordcloud/query_integral_image.c -o build/temp.macosx-10.9-x86_64-3.8/wordcloud/query_integral_image.o\n",
      "    xcrun: error: invalid active developer path (/Library/Developer/CommandLineTools), missing xcrun at: /Library/Developer/CommandLineTools/usr/bin/xcrun\n",
      "    error: command 'gcc' failed with exit status 1\n",
      "    ----------------------------------------\u001b[0m\n",
      "\u001b[31mERROR: Command errored out with exit status 1: /opt/anaconda3/bin/python -u -c 'import sys, setuptools, tokenize; sys.argv[0] = '\"'\"'/private/var/folders/nx/54vsr3xx4y7g750jkrsnwfg40000gn/T/pip-install-xzcxha3j/WordCloud/setup.py'\"'\"'; __file__='\"'\"'/private/var/folders/nx/54vsr3xx4y7g750jkrsnwfg40000gn/T/pip-install-xzcxha3j/WordCloud/setup.py'\"'\"';f=getattr(tokenize, '\"'\"'open'\"'\"', open)(__file__);code=f.read().replace('\"'\"'\\r\\n'\"'\"', '\"'\"'\\n'\"'\"');f.close();exec(compile(code, __file__, '\"'\"'exec'\"'\"'))' install --record /private/var/folders/nx/54vsr3xx4y7g750jkrsnwfg40000gn/T/pip-record-54vyh7x0/install-record.txt --single-version-externally-managed --compile --install-headers /opt/anaconda3/include/python3.8/WordCloud Check the logs for full command output.\u001b[0m\n",
      "\u001b[?25h"
     ]
    }
   ],
   "source": [
    "#can't make it work in 3.8\n",
    "!pip install WordCloud"
   ]
  },
  {
   "cell_type": "code",
   "execution_count": 29,
   "metadata": {
    "collapsed": true
   },
   "outputs": [
    {
     "name": "stdout",
     "output_type": "stream",
     "text": [
      "Requirement already satisfied: nltk in /opt/anaconda3/lib/python3.8/site-packages (3.5)\n",
      "Requirement already satisfied: click in /opt/anaconda3/lib/python3.8/site-packages (from nltk) (7.1.2)\n",
      "Requirement already satisfied: tqdm in /opt/anaconda3/lib/python3.8/site-packages (from nltk) (4.47.0)\n",
      "Requirement already satisfied: joblib in /opt/anaconda3/lib/python3.8/site-packages (from nltk) (0.16.0)\n",
      "Requirement already satisfied: regex in /opt/anaconda3/lib/python3.8/site-packages (from nltk) (2020.6.8)\n",
      "Note: you may need to restart the kernel to use updated packages.\n"
     ]
    }
   ],
   "source": [
    "#nltk for text processing\n",
    "pip install nltk"
   ]
  },
  {
   "cell_type": "code",
   "execution_count": 83,
   "metadata": {
    "collapsed": true
   },
   "outputs": [
    {
     "name": "stderr",
     "output_type": "stream",
     "text": [
      "[nltk_data] Downloading package wordnet to /Users/i854950/nltk_data...\n",
      "[nltk_data]   Package wordnet is already up-to-date!\n",
      "[nltk_data] Downloading package stopwords to\n",
      "[nltk_data]     /Users/i854950/nltk_data...\n",
      "[nltk_data]   Package stopwords is already up-to-date!\n",
      "[nltk_data] Downloading package punkt to /Users/i854950/nltk_data...\n",
      "[nltk_data]   Package punkt is already up-to-date!\n"
     ]
    },
    {
     "data": {
      "text/plain": [
       "True"
      ]
     },
     "execution_count": 83,
     "metadata": {},
     "output_type": "execute_result"
    }
   ],
   "source": [
    "#downloading stopwords and other required packs\n",
    "import nltk\n",
    "nltk.download('wordnet')\n",
    "nltk.download('stopwords')\n",
    "nltk.download('punkt')"
   ]
  },
  {
   "cell_type": "code",
   "execution_count": 84,
   "metadata": {},
   "outputs": [],
   "source": [
    "#importing packages\n",
    "import tweepy\n",
    "import psycopg2\n",
    "import pandas as pd\n",
    "from nltk.stem import WordNetLemmatizer\n",
    "from nltk.corpus import stopwords\n",
    "import numpy as np\n",
    "from textblob import TextBlob\n",
    "import re\n",
    "import matplotlib.pyplot as plt\n",
    "import seaborn as sns\n"
   ]
  },
  {
   "cell_type": "code",
   "execution_count": 85,
   "metadata": {},
   "outputs": [],
   "source": [
    "# Twitter API authentication\n",
    "\n",
    "api_key =  'XX'\n",
    "api_secret_key = 'XX'\n",
    "access_token =  'XX'\n",
    "access_token_secret =  'XX'\n",
    "\n",
    "# authorize the API Key\n",
    "authentication = tweepy.OAuthHandler(api_key, api_secret_key)\n",
    "\n",
    "# authorization to user's access token and access token secret\n",
    "authentication.set_access_token(access_token, access_token_secret)\n",
    "\n",
    "# call the api\n",
    "api = tweepy.API(authentication)"
   ]
  },
  {
   "cell_type": "markdown",
   "metadata": {},
   "source": [
    "### TO GET TWEETS FROM MY TIMELINE"
   ]
  },
  {
   "cell_type": "code",
   "execution_count": 241,
   "metadata": {},
   "outputs": [
    {
     "name": "stdout",
     "output_type": "stream",
     "text": [
      "--> Do you think you have what it takes to solve them? #puzzle https://t.co/iEZhTeXVuE\n",
      "--> Have you finished your holiday shopping yet? This year 60% of consumers plan to do their holiday shopping online. E… https://t.co/4qzDu29MF4\n",
      "--> Congress leaders Sonia Gandhi and Rahul Gandhi accused BJP MP Subramanian Swamy of delaying proceedings in the Nati… https://t.co/iM0uwK1nvE\n",
      "--> #Opinion: Prof. Ezra Vogel's passing will mean that a major, well-informed voice in support of Sino-US communicatio… https://t.co/iYZluWikko\n"
     ]
    }
   ],
   "source": [
    "# Streaming tweets from home timeline\n",
    "\n",
    "public_tweet = api.home_timeline(count=5)\n",
    "\n",
    "for tweet in public_tweet:\n",
    "    print(\"-->\",tweet.text)"
   ]
  },
  {
   "cell_type": "markdown",
   "metadata": {},
   "source": [
    "### TO GET TWEETS FROM A SPECIFIC USER\n"
   ]
  },
  {
   "cell_type": "code",
   "execution_count": 242,
   "metadata": {},
   "outputs": [
    {
     "name": "stdout",
     "output_type": "stream",
     "text": [
      "-> Theo Hernandez feeling the love from club legend Paolo Maldini 🙏❤️ https://t.co/WHezuNn9i0\n",
      "-> A late double sees @ManUtd through to the EFL Cup SF 👹 https://t.co/OJlmUdMwGq\n",
      "-> 💥 @OfficialASRoma move up to 3rd in the table after a thrilling match! https://t.co/EOhdwOM0lj\n",
      "-> ⏱️ @TheoHernandez heads @acmilan back to the top of Serie A 🇮🇹 in injury time! https://t.co/T92eHOVeMb\n",
      "-> THEO MALDINI ⏰ https://t.co/OzgeSDIoV4\n",
      "-> 🇪🇸 @realmadrid move level on points with neighbors Atlético in La Liga https://t.co/DOCYVCvipm\n",
      "-> Merry Xmas from Familia Messi 🎄 https://t.co/lDLetFCRrv\n",
      "-> Can @spursofficial do it on a cold &amp; rainy Wednesday night at Stoke? They can! ☔️✔️ https://t.co/s4o03xXIj0\n",
      "-> 🇮🇹 @inter 🔙🔛🔝in Serie A 🇮🇹 https://t.co/MkPywLwd8B\n",
      "-> 👁 @oblakjan reserves special praise for all-seeing genius Messi https://t.co/gVVcrR4iuy\n"
     ]
    }
   ],
   "source": [
    "user = \"433\"\n",
    "public_tweet = api.user_timeline(id=user,count=10)\n",
    "\n",
    "for tweet in public_tweet:\n",
    "    print(\"->\",tweet.text)"
   ]
  },
  {
   "cell_type": "markdown",
   "metadata": {},
   "source": [
    "### TO GET TWEETS RELATED TO A SPEICIFIC SUBJECT"
   ]
  },
  {
   "cell_type": "code",
   "execution_count": 288,
   "metadata": {},
   "outputs": [
    {
     "name": "stdout",
     "output_type": "stream",
     "text": [
      "-> RT @Sword0616: KOCOWA, an online premium streaming service which delivers Korean drama series to North America &amp; South America,  CHOOSES TH… -> 11\n",
      "-> RT @ChampagneTex: America is so weird... let them cashiers sit down. I promise we don’t care. -> 18689\n",
      "-> I am once again asking if anyone wants to treat Día De Los Reyes Magos as an actual holiday that happens with me, i… https://t.co/I2clymVRtC -> 0\n",
      "-> RT @Stornoway_Cove: Trump is diverting 75% of the Georgia Senate run-off donations to his new Save America political action committee, whic… -> 37\n",
      "-> Follow up \n",
      "\n",
      "I’m Latin X because I used the name of the first Holocaust massacre to smuggle in the entire agricultur… https://t.co/A49eNUOWpn -> 0\n",
      "-> RT @ChampagneTex: America is so weird... let them cashiers sit down. I promise we don’t care. -> 18689\n",
      "-> RT @AdrianNormanDC: COVID didn't ruin America's economy. \n",
      "\n",
      "Governors, state and local officials did. -> 7807\n",
      "-> RT @PatBelam: @rubk2017 @careygilbert74 @Acosta This is one of the Iraqi children murdered by the Blackwater monsters who Trump just pardon… -> 184\n"
     ]
    }
   ],
   "source": [
    "# Retrieve tweets\n",
    "result = api.search(['America'], lang='en', count=10)\n",
    "\n",
    "for tweet in result:\n",
    "   print(\"->\",tweet.text, \"->\", tweet.retweet_count)\n",
    "\n"
   ]
  },
  {
   "cell_type": "code",
   "execution_count": 244,
   "metadata": {},
   "outputs": [
    {
     "name": "stdout",
     "output_type": "stream",
     "text": [
      "dict_keys(['created_at', 'id', 'id_str', 'text', 'truncated', 'entities', 'metadata', 'source', 'in_reply_to_status_id', 'in_reply_to_status_id_str', 'in_reply_to_user_id', 'in_reply_to_user_id_str', 'in_reply_to_screen_name', 'user', 'geo', 'coordinates', 'place', 'contributors', 'is_quote_status', 'retweet_count', 'favorite_count', 'favorited', 'retweeted', 'lang'])\n"
     ]
    }
   ],
   "source": [
    "#to get available attributes\n",
    "print(result[0]._json.keys())"
   ]
  },
  {
   "cell_type": "code",
   "execution_count": 126,
   "metadata": {},
   "outputs": [
    {
     "name": "stdout",
     "output_type": "stream",
     "text": [
      "en\n"
     ]
    }
   ],
   "source": [
    "print(result[0].lang)"
   ]
  },
  {
   "cell_type": "markdown",
   "metadata": {},
   "source": [
    "### Create a custom class that will inherit the StreamListener class and overrides the on_status() method. Here we will write our own code to extract the relevant data from the tweet. "
   ]
  },
  {
   "cell_type": "code",
   "execution_count": 273,
   "metadata": {},
   "outputs": [],
   "source": [
    "class MyStreamListener(tweepy.StreamListener):\n",
    "    \n",
    "    def __init__(self, time_limit= 300):\n",
    "        self.start_time = time.time()\n",
    "        self.limit = time_limit\n",
    "        super(MyStreamListener, self).__init__()\n",
    "    \n",
    "    def on_connect(self):\n",
    "        print(\"Connected to Twitter API.\")\n",
    "        \n",
    "    def on_status(self, status):\n",
    "        \n",
    "        \n",
    "        # Tweet ID\n",
    "        tweet_id = status.id\n",
    "        \n",
    "        # User ID\n",
    "        user_id = status.user.id\n",
    "        \n",
    "        # Username\n",
    "        username = status.user.name\n",
    "        \n",
    "        \n",
    "        # Tweet\n",
    "        if status.truncated == True:\n",
    "            tweet = status.extended_tweet['full_text']\n",
    "            hashtags = status.extended_tweet['entities']['hashtags']\n",
    "        else:\n",
    "            tweet = status.text\n",
    "            hashtags = status.entities['hashtags']\n",
    "        \n",
    "        # Read hastags\n",
    "        hashtags = read_hashtags(hashtags)            \n",
    "        \n",
    "        # Retweet count\n",
    "        retweet_count = status.retweet_count\n",
    "        \n",
    "        # favorite count\n",
    "        favorite_count = status.favorite_count\n",
    "        \n",
    "        # Language\n",
    "        lang = status.lang\n",
    "        \n",
    "        \n",
    "        # If tweet is not a retweet and tweet is in English\n",
    "        if not hasattr(status, \"retweeted_status\") and lang==\"en\":\n",
    "            # Connect to database\n",
    "            dbConnect(user_id, username, tweet_id, tweet, retweet_count, favorite_count, hashtags)\n",
    "            \n",
    "        if (time.time() - self.start_time) > self.limit:\n",
    "            \n",
    "            print(time.time(), self.start_time, self.limit)\n",
    "            return False\n",
    "            \n",
    "    def on_error(self, status_code):\n",
    "        if status_code == 420:\n",
    "            # Returning False in on_data disconnects the stream\n",
    "            return False"
   ]
  },
  {
   "cell_type": "markdown",
   "metadata": {},
   "source": [
    "### Since the hashtags field dictionary (containing hashtags and their character indexing in the tweet) is saved within a list in the entities field, I have written a custom method read_hashtags() to extract only the hashtags and save them in a Python list"
   ]
  },
  {
   "cell_type": "code",
   "execution_count": 128,
   "metadata": {},
   "outputs": [],
   "source": [
    "def read_hashtags(tag_list):\n",
    "    hashtags = []\n",
    "    for tag in tag_list:\n",
    "        hashtags.append(tag['text'])\n",
    "    return hashtags"
   ]
  },
  {
   "cell_type": "code",
   "execution_count": 129,
   "metadata": {},
   "outputs": [],
   "source": [
    "# Table creation for postgres\n",
    "commands = (# Table 1\n",
    "            '''Create Table TwitterUser(User_Id BIGINT PRIMARY KEY, User_Name TEXT);''',\n",
    "            # Table 2\n",
    "            '''Create Table TwitterTweet(Tweet_Id BIGINT PRIMARY KEY,\n",
    "                                         User_Id BIGINT,\n",
    "                                         Tweet TEXT,\n",
    "                                         Retweet_Count INT,\n",
    "                                         favorite_count INT,\n",
    "                                         CONSTRAINT fk_user\n",
    "                                             FOREIGN KEY(User_Id)\n",
    "                                                 REFERENCES TwitterUser(User_Id));''',\n",
    "            # Table 3\n",
    "            '''Create Table TwitterEntity(Id SERIAL PRIMARY KEY,\n",
    "                                         Tweet_Id BIGINT,\n",
    "                                         Hashtag TEXT,\n",
    "                                         CONSTRAINT fk_user\n",
    "                                             FOREIGN KEY(Tweet_Id)\n",
    "                                                 REFERENCES TwitterTweet(Tweet_Id));''')"
   ]
  },
  {
   "cell_type": "code",
   "execution_count": 274,
   "metadata": {},
   "outputs": [],
   "source": [
    "# Connection to database server\n",
    "\n",
    "import psycopg2\n",
    "\n",
    "conn = psycopg2.connect(host=\"localhost\",database=\"Twitter_database\",port=5432,user='xxx',password='xxx')"
   ]
  },
  {
   "cell_type": "code",
   "execution_count": 275,
   "metadata": {},
   "outputs": [],
   "source": [
    "#SQL commands for deleting all the rows from the table\n",
    "delete_commands = (#table1\n",
    "                '''DELETE FROM TwitterEntity; ''',\n",
    "                 #table2\n",
    "                '''DELETE FROM TwitterTweet; ''',\n",
    "                #table3\n",
    "                '''DELETE FROM TwitterUser; ''')\n"
   ]
  },
  {
   "cell_type": "code",
   "execution_count": 271,
   "metadata": {},
   "outputs": [],
   "source": [
    "# Create cursor to execute delete table commands\n",
    "cur = conn.cursor()\n",
    "\n",
    "# Execute SQL commands\n",
    "for command in delete_commands:\n",
    "    # drop tables\n",
    "    cur.execute(command)\n",
    "\n",
    "# Close communication with server\n",
    "conn.commit()\n",
    "cur.close()\n",
    "conn.close()"
   ]
  },
  {
   "cell_type": "code",
   "execution_count": 250,
   "metadata": {
    "collapsed": true
   },
   "outputs": [
    {
     "ename": "DuplicateTable",
     "evalue": "relation \"twitteruser\" already exists\n",
     "output_type": "error",
     "traceback": [
      "\u001b[0;31m---------------------------------------------------------------------------\u001b[0m",
      "\u001b[0;31mDuplicateTable\u001b[0m                            Traceback (most recent call last)",
      "\u001b[0;32m<ipython-input-250-451bea6535f9>\u001b[0m in \u001b[0;36m<module>\u001b[0;34m\u001b[0m\n\u001b[1;32m      5\u001b[0m \u001b[0;32mfor\u001b[0m \u001b[0mcommand\u001b[0m \u001b[0;32min\u001b[0m \u001b[0mcommands\u001b[0m\u001b[0;34m:\u001b[0m\u001b[0;34m\u001b[0m\u001b[0;34m\u001b[0m\u001b[0m\n\u001b[1;32m      6\u001b[0m     \u001b[0;31m# Create tables\u001b[0m\u001b[0;34m\u001b[0m\u001b[0;34m\u001b[0m\u001b[0;34m\u001b[0m\u001b[0m\n\u001b[0;32m----> 7\u001b[0;31m     \u001b[0mcur\u001b[0m\u001b[0;34m.\u001b[0m\u001b[0mexecute\u001b[0m\u001b[0;34m(\u001b[0m\u001b[0mcommand\u001b[0m\u001b[0;34m)\u001b[0m\u001b[0;34m\u001b[0m\u001b[0;34m\u001b[0m\u001b[0m\n\u001b[0m\u001b[1;32m      8\u001b[0m \u001b[0;34m\u001b[0m\u001b[0m\n\u001b[1;32m      9\u001b[0m \u001b[0;31m# Close communication with server\u001b[0m\u001b[0;34m\u001b[0m\u001b[0;34m\u001b[0m\u001b[0;34m\u001b[0m\u001b[0m\n",
      "\u001b[0;31mDuplicateTable\u001b[0m: relation \"twitteruser\" already exists\n"
     ]
    }
   ],
   "source": [
    "# Create cursor to execute SQL commands\n",
    "cur = conn.cursor()\n",
    "\n",
    "# Execute SQL commands\n",
    "for command in commands:\n",
    "    # Create tables\n",
    "    cur.execute(command)\n",
    "\n",
    "# Close communication with server\n",
    "conn.commit()\n",
    "cur.close()\n",
    "conn.close()"
   ]
  },
  {
   "cell_type": "markdown",
   "metadata": {},
   "source": [
    "Whenever a tweet needs to be saved to the database, we will first open a connection to the database, execute the SQL command to the database, commit the changes, and finally close the connection. This is what is happening in the dbConnect() method below"
   ]
  },
  {
   "cell_type": "code",
   "execution_count": 253,
   "metadata": {},
   "outputs": [],
   "source": [
    "# Insert Tweet data into database\n",
    "def dbConnect(user_id, user_name, tweet_id, tweet, retweet_count,favorite_count, hashtags):\n",
    "    \n",
    "    conn = psycopg2.connect(host=\"localhost\",database=\"Twitter_database\",port=5432,user='XXX',password='XXX')\n",
    "    \n",
    "    cur = conn.cursor()\n",
    "\n",
    "    # insert user information\n",
    "    command = '''INSERT INTO TwitterUser (user_id, user_name) VALUES (%s,%s) ON CONFLICT\n",
    "                 (User_Id) DO NOTHING;'''\n",
    "    cur.execute(command,(user_id,user_name))\n",
    "\n",
    "    # insert tweet information\n",
    "    command = '''INSERT INTO TwitterTweet (tweet_id, user_id, tweet, retweet_count,favorite_count) VALUES (%s,%s,%s,%s, %s);'''\n",
    "    cur.execute(command,(tweet_id, user_id, tweet, retweet_count, favorite_count))\n",
    "    \n",
    "    # insert entity information\n",
    "    for i in range(len(hashtags)):\n",
    "        hashtag = hashtags[i]\n",
    "        command = '''INSERT INTO TwitterEntity (tweet_id, hashtag) VALUES (%s,%s);'''\n",
    "        cur.execute(command,(tweet_id, hashtag))\n",
    "    \n",
    "    # Commit changes\n",
    "    conn.commit()\n",
    "    \n",
    "    # Disconnect\n",
    "    cur.close()\n",
    "    conn.close()\n",
    "    "
   ]
  },
  {
   "cell_type": "code",
   "execution_count": 276,
   "metadata": {},
   "outputs": [
    {
     "name": "stdout",
     "output_type": "stream",
     "text": [
      "Connected to Twitter API.\n",
      "1608775812.122159 1608775512.0791302 300\n"
     ]
    }
   ],
   "source": [
    "import time\n",
    "myStreamListener = MyStreamListener()\n",
    "myStream = tweepy.Stream(auth=api.auth, listener=myStreamListener,\n",
    "                        tweet_mode=\"extended\")\n",
    "myStream.filter(track=['America'])"
   ]
  },
  {
   "cell_type": "code",
   "execution_count": 255,
   "metadata": {},
   "outputs": [],
   "source": [
    "from nltk.stem import WordNetLemmatizer\n",
    "from nltk.corpus import stopwords\n",
    "#print(stopwords.words('english'))\n",
    "import numpy as np\n",
    "from textblob import TextBlob\n",
    "import re\n",
    "#from wordcloud import WordCloud\n",
    "import matplotlib.pyplot as plt\n",
    "import seaborn as sns"
   ]
  },
  {
   "cell_type": "code",
   "execution_count": 256,
   "metadata": {},
   "outputs": [],
   "source": [
    "# Cleaning the tweets\n",
    "def preprocess(tweet):\n",
    "    \n",
    "    # remove links\n",
    "    tweet = re.sub(r'http\\S+', '', tweet)\n",
    "    # remove mentions\n",
    "    tweet = re.sub(\"@\\w+\",\"\",tweet)\n",
    "    # alphanumeric and hashtags\n",
    "    tweet = re.sub(\"[^a-zA-Z#]\",\" \",tweet)\n",
    "    # remove multiple spaces\n",
    "    tweet = re.sub(\"\\s+\",\" \",tweet)\n",
    "    tweet = tweet.lower()\n",
    "    # Lemmatize\n",
    "    lemmatizer = WordNetLemmatizer()\n",
    "    sent = ' '.join([lemmatizer.lemmatize(w) for w in tweet.split() if len(lemmatizer.lemmatize(w))>3])\n",
    "\n",
    "    return sent"
   ]
  },
  {
   "cell_type": "code",
   "execution_count": 277,
   "metadata": {},
   "outputs": [],
   "source": [
    "# Connecting to the Database\n",
    "def DbConnect(query):\n",
    "    \n",
    "    conn = psycopg2.connect(host=\"localhost\",database=\"Twitter_database\",port=5432,user='XXXX',password='XXXX')\n",
    "    curr = conn.cursor()\n",
    "    \n",
    "    curr.execute(query)\n",
    "    \n",
    "    rows = curr.fetchall()\n",
    "    \n",
    "    return rows"
   ]
  },
  {
   "cell_type": "code",
   "execution_count": 278,
   "metadata": {},
   "outputs": [
    {
     "data": {
      "text/html": [
       "<div>\n",
       "<style scoped>\n",
       "    .dataframe tbody tr th:only-of-type {\n",
       "        vertical-align: middle;\n",
       "    }\n",
       "\n",
       "    .dataframe tbody tr th {\n",
       "        vertical-align: top;\n",
       "    }\n",
       "\n",
       "    .dataframe thead th {\n",
       "        text-align: right;\n",
       "    }\n",
       "</style>\n",
       "<table border=\"1\" class=\"dataframe\">\n",
       "  <thead>\n",
       "    <tr style=\"text-align: right;\">\n",
       "      <th></th>\n",
       "      <th>User_Id</th>\n",
       "      <th>Tweet_Id</th>\n",
       "      <th>Clean_Tweet</th>\n",
       "    </tr>\n",
       "  </thead>\n",
       "  <tbody>\n",
       "    <tr>\n",
       "      <th>0</th>\n",
       "      <td>1278770235194163202</td>\n",
       "      <td>1341926722543841282</td>\n",
       "      <td>asset acquires logistics specialist investor #epl</td>\n",
       "    </tr>\n",
       "    <tr>\n",
       "      <th>1</th>\n",
       "      <td>271222727</td>\n",
       "      <td>1341927862824296448</td>\n",
       "      <td>america sweetheart runner time</td>\n",
       "    </tr>\n",
       "    <tr>\n",
       "      <th>2</th>\n",
       "      <td>762370444477345792</td>\n",
       "      <td>1341927870092857345</td>\n",
       "      <td>truth watch were doubting cheating know must #...</td>\n",
       "    </tr>\n",
       "    <tr>\n",
       "      <th>3</th>\n",
       "      <td>19377194</td>\n",
       "      <td>1341927882810150917</td>\n",
       "      <td>fuck fuck everyone know both criminal will ult...</td>\n",
       "    </tr>\n",
       "    <tr>\n",
       "      <th>4</th>\n",
       "      <td>1333719928185163776</td>\n",
       "      <td>1341927897746071552</td>\n",
       "      <td>destory republicon confederate domestic terror...</td>\n",
       "    </tr>\n",
       "  </tbody>\n",
       "</table>\n",
       "</div>"
      ],
      "text/plain": [
       "               User_Id             Tweet_Id  \\\n",
       "0  1278770235194163202  1341926722543841282   \n",
       "1            271222727  1341927862824296448   \n",
       "2   762370444477345792  1341927870092857345   \n",
       "3             19377194  1341927882810150917   \n",
       "4  1333719928185163776  1341927897746071552   \n",
       "\n",
       "                                         Clean_Tweet  \n",
       "0  asset acquires logistics specialist investor #epl  \n",
       "1                     america sweetheart runner time  \n",
       "2  truth watch were doubting cheating know must #...  \n",
       "3  fuck fuck everyone know both criminal will ult...  \n",
       "4  destory republicon confederate domestic terror...  "
      ]
     },
     "execution_count": 278,
     "metadata": {},
     "output_type": "execute_result"
    }
   ],
   "source": [
    "# Creating a dataframe of user id, tweet id and tweets\n",
    "data_tweet = DbConnect(\"SELECT User_Id, Tweet_Id, Tweet FROM TwitterTweet;\")\n",
    "\n",
    "df_tweet = pd.DataFrame(columns=['User_Id','Tweet_Id','Clean_Tweet'])\n",
    "\n",
    "for data in data_tweet:\n",
    "    index = len(df_tweet)\n",
    "    df_tweet.loc[index,'User_Id'] = data[0]\n",
    "    df_tweet.loc[index,'Tweet_Id'] = data[1]\n",
    "    df_tweet.loc[index,'Clean_Tweet'] = preprocess(data[2])\n",
    "    \n",
    "df_tweet.head()"
   ]
  },
  {
   "cell_type": "code",
   "execution_count": 72,
   "metadata": {
    "collapsed": true
   },
   "outputs": [
    {
     "data": {
      "text/plain": [
       "0       [r, e, p, l, c, e, e, n,  , k,  , b, e,  , h, ...\n",
       "1       [w, e, l, l,  , n, e,  , n, e, e, r,  , l,  , ...\n",
       "2                          [n, h, n, g,  , w, l, l,  , p]\n",
       "3       [g, u, e,  , n, h, n, g,  , h, v, n, g,  , r, ...\n",
       "4                                                  [r, r]\n",
       "                              ...                        \n",
       "2364    [c, v,  , e,  , c, e,  , b, c, k,  , n, e, g, ...\n",
       "2365                                            [l,  , h]\n",
       "2366    [h,  , u, r,  , c, h, l,  , p, r, n, c, p, l, ...\n",
       "2367    [b, e, c, u, e,  , h, e, r, e,  , c, v,  , j, ...\n",
       "2368    [l,  , c, v,  , e, h,  , l,  , e, q, u, l,  , ...\n",
       "Name: Clean_Tweet, Length: 2369, dtype: object"
      ]
     },
     "execution_count": 72,
     "metadata": {},
     "output_type": "execute_result"
    }
   ],
   "source": [
    "#remove stop words\n",
    "#from nltk.tokenize import word_tokenize\n",
    "\n",
    "#stop_words = set(stopwords.words('english'))  \n",
    "  \n",
    "#df_tweet['Clean_Tweet'].apply(lambda x: [item for item in x if item not in stop_words])\n"
   ]
  },
  {
   "cell_type": "code",
   "execution_count": 279,
   "metadata": {},
   "outputs": [],
   "source": [
    "# Import stopwords with nltk.\n",
    "from nltk.corpus import stopwords\n",
    "stop = stopwords.words('english')\n",
    "\n",
    "# Exclude stopwords with Python's list comprehension and pandas.DataFrame.apply.\n",
    "df_tweet['Clean_Tweet_no_stop_words'] = df_tweet['Clean_Tweet'].apply(lambda x: ' '.join([word for word in x.split() if word not in (stop)]))\n"
   ]
  },
  {
   "cell_type": "code",
   "execution_count": 280,
   "metadata": {},
   "outputs": [
    {
     "data": {
      "text/plain": [
       "0      asset acquires logistics specialist investor #epl\n",
       "1                         america sweetheart runner time\n",
       "2      truth watch doubting cheating know must #stopt...\n",
       "3      fuck fuck everyone know criminal ultimately pr...\n",
       "4      destory republicon confederate domestic terror...\n",
       "                             ...                        \n",
       "788    president trump deep state ball even fully und...\n",
       "789                                               please\n",
       "790                  republican latest bill #vetothebill\n",
       "791    letter editor tuned president elect biden chri...\n",
       "792                                  worst #impotus fuck\n",
       "Name: Clean_Tweet_no_stop_words, Length: 793, dtype: object"
      ]
     },
     "execution_count": 280,
     "metadata": {},
     "output_type": "execute_result"
    }
   ],
   "source": [
    "df_tweet['Clean_Tweet_no_stop_words']"
   ]
  },
  {
   "cell_type": "code",
   "execution_count": 281,
   "metadata": {},
   "outputs": [
    {
     "name": "stdout",
     "output_type": "stream",
     "text": [
      "Counter({'america': 651, 'trump': 115, 'american': 74, 'people': 72, 'president': 56, 'like': 46, 'country': 46, 'first': 42, 'love': 40, 'need': 38, 'know': 35, 'time': 34, 'state': 33, 'right': 32, 'bless': 31, 'biden': 29, 'world': 28, 'pardon': 28, 'year': 27, 'corrupt': 27, 'even': 26, 'united': 26, 'would': 26, 'last': 24, 'money': 24, 'never': 24, 'thing': 23, 'still': 23, 'vote': 23, 'republican': 23, 'life': 23, 'congress': 23, 'going': 23, 'think': 22, 'china': 22, 'make': 22, 'bill': 21, 'covid': 21, 'christmas': 20, 'want': 20, 'election': 20, 'democrat': 19, 'stop': 19, 'hate': 19, 'ally': 19, 'longer': 19, 'said': 19, 'history': 19, 'party': 18, 'thank': 18, 'much': 18, 'give': 18, 'free': 18, 'shall': 18, 'help': 18, 'criminal': 17, 'show': 17, 'ever': 17, 'democracy': 17, 'please': 17, 'really': 16, 'today': 16, 'back': 16, 'death': 16, 'stand': 16, 'great': 16, 'another': 16, 'everyone': 15, 'constitution': 15, 'care': 15, 'save': 15, 'made': 15, 'member': 15, 'fall': 15, 'tolerate': 15, 'actually': 15, 'donald': 15, 'real': 15, 'better': 15, 'well': 14, 'family': 14, 'many': 14, 'shit': 14, 'nothing': 14, 'fuck': 13, 'best': 13, 'good': 13, 'take': 13, 'government': 13, 'true': 13, 'live': 13, 'tell': 13, 'someone': 13, 'steal': 13, 'system': 13, 'wrong': 13, 'domestic': 12, 'literally': 12, 'stimulus': 12, 'month': 12, 'mean': 12, 'also': 12, 'line': 12, 'every': 12, 'look': 12, 'sure': 12, 'wait': 12, 'must': 11, 'could': 11, 'merry': 11, 'patriot': 11, 'side': 11, 'crime': 11, 'working': 11, 'bank': 11, 'white': 11, 'african': 11, 'citizen': 11, 'order': 11, 'watch': 10, 'trying': 10, 'believe': 10, 'done': 10, 'captain': 10, 'killing': 10, 'black': 10, 'racism': 10, 'enjoy': 10, 'martial': 10, 'defense': 10, 'already': 10, 'fucking': 10, 'account': 10, 'endangering': 10, '#trumpisanationaldisgrace': 10, 'support': 10, 'come': 10, 'something': 10, 'cashier': 10, 'business': 10, 'senate': 10, 'thought': 10, 'instead': 10, 'coming': 10, 'anyone': 9, 'play': 9, 'taking': 9, 'always': 9, 'problem': 9, 'shot': 9, 'evil': 9, 'happy': 9, 'else': 9, 'therein': 9, 'seize': 9, 'compromised': 9, 'immunity': 9, '#insurrectionact': 9, 'foreign': 9, 'work': 9, 'relief': 9, 'without': 9, 'issue': 9, 'traitor': 9, 'medium': 9, 'truth': 8, 'politician': 8, 'penny': 8, 'standing': 8, 'power': 8, 'majority': 8, 'russian': 8, 'voted': 8, 'pandemic': 8, 'lost': 8, 'cannot': 8, 'stole': 8, 'used': 8, 'greatest': 8, 'house': 8, '#america': 8, 'honest': 8, 'office': 8, 'person': 8, 'saying': 8, 'terrorist': 7, 'million': 7, 'watching': 7, 'high': 7, 'along': 7, 'open': 7, 'keep': 7, 'start': 7, 'coronavirus': 7, 'worst': 7, 'born': 7, 'treason': 7, 'video': 7, 'rest': 7, 'news': 7, 'fight': 7, 'amen': 7, 'leader': 7, 'democratic': 7, 'across': 7, 'social': 7, 'january': 7, 'making': 7, 'biggest': 7, 'justice': 7, 'interest': 7, 'veto': 7, 'listen': 7, 'stupid': 7, 'damn': 7, 'political': 7, 'georgia': 7, 'everything': 7, 'north': 7, 'change': 7, 'gonna': 7, 'hell': 7, 'pelosi': 7, 'obama': 7, 'welcome': 6, 'cost': 6, 'remember': 6, '#republicans': 6, 'advantage': 6, 'forget': 6, 'exactly': 6, 'called': 6, 'long': 6, 'except': 6, 'essential': 6, 'chance': 6, 'rush': 6, 'gave': 6, 'friend': 6, 'talking': 6, 'hard': 6, 'smile': 6, 'republic': 6, 'living': 6, 'full': 6, 'deep': 6, 'happen': 6, 'fascism': 6, 'part': 6, 'door': 6, 'find': 6, 'place': 6, 'thousand': 6, 'since': 6, 'mask': 6, 'twitter': 6, 'russia': 6, 'benefit': 6, 'swamp': 6, 'communist': 6, 'south': 6, 'happened': 6, 'check': 6, 'police': 6, 'pardoned': 6, 'nation': 6, 'lead': 6, 'innocent': 6, 'iran': 6, 'taken': 6, 'loser': 6, 'around': 6, 'school': 6, 'agree': 6, 'killed': 6, 'call': 6, 'letting': 6, 'giving': 6, 'away': 6, 'burn': 6, 'enough': 6, 'entire': 5, 'joke': 5, 'leave': 5, 'pure': 5, 'street': 5, 'others': 5, '#pencecard': 5, 'disaster': 5, 'warned': 5, 'turn': 5, 'amendment': 5, 'week': 5, 'child': 5, 'anymore': 5, 'cause': 5, 'national': 5, 'either': 5, 'total': 5, 'amazing': 5, 'disgrace': 5, 'planet': 5, 'heart': 5, 'middle': 5, 'getting': 5, '#trump': 5, 'woman': 5, 'violation': 5, 'trumpism': 5, 'minority': 5, 'patriotic': 5, 'authoritatively': 5, 'shame': 5, 'dude': 5, 'prayer': 5, 'sick': 5, 'personally': 5, 'attempt': 5, 'grew': 5, 'hospital': 5, 'clear': 5, 'service': 5, 'pork': 5, 'plan': 5, 'bullshit': 5, 'anything': 5, 'deserved': 5, 'allowed': 5, 'reminder': 5, 'self': 5, 'known': 5, 'name': 5, 'military': 5, 'socialist': 5, 'disgusting': 5, 'went': 5, 'rich': 5, 'took': 5, 'murder': 5, 'land': 5, 'legal': 5, 'question': 5, 'though': 5, 'soldier': 5, 'fraud': 5, 'yeah': 5, 'running': 5, 'next': 5, 'hand': 5, 'healthcare': 5, 'human': 5, 'action': 5, 'thanks': 5, 'sorry': 5, 'fucker': 5, 'jail': 5, 'realize': 5, 'seeing': 5, 'idiot': 5, 'truly': 5, 'using': 5, 'case': 5, 'bastard': 5, 'waiting': 4, 'paying': 4, 'nonsense': 4, 'card': 4, 'washington': 4, 'latin': 4, 'lying': 4, 'maybe': 4, 'propaganda': 4, 'whole': 4, 'stuff': 4, 'hope': 4, 'seen': 4, 'miss': 4, 'quite': 4, 'target': 4, 'station': 4, 'europe': 4, 'shameful': 4, 'alone': 4, 'somehow': 4, 'decade': 4, 'gender': 4, 'control': 4, 'mind': 4, 'defend': 4, 'fucked': 4, 'sign': 4, 'deal': 4, 'pakistan': 4, 'shut': 4, 'built': 4, 'team': 4, 'movie': 4, 'home': 4, 'lockdown': 4, 'distance': 4, 'future': 4, 'demand': 4, 'immigrant': 4, 'gift': 4, 'lmao': 4, 'fact': 4, 'struggle': 4, 'worried': 4, 'racial': 4, 'class': 4, 'tweet': 4, 'garbage': 4, '#covid': 4, 'putin': 4, 'spent': 4, 'group': 4, 'murderer': 4, 'knew': 4, 'unfit': 4, 'tried': 4, 'opportunity': 4, 'seems': 4, 'proud': 4, 'supposed': 4, 'madness': 4, 'chinese': 4, 'dollar': 4, 'post': 4, 'shown': 4, 'point': 4, 'holiday': 4, 'kill': 4, 'gone': 4, 'florida': 4, 'city': 4, 'leftist': 4, 'especially': 4, 'statement': 4, 'belief': 4, 'least': 4, 'face': 4, 'corruption': 4, 'helping': 4, 'beautiful': 4, 'nancy': 4, 'found': 4, 'solution': 4, 'often': 4, 'thinking': 4, 'example': 4, 'came': 4, 'africa': 4, 'threat': 4, 'whatever': 4, 'sold': 4, 'haiti': 4, 'food': 4, 'asset': 3, 'cheating': 3, '#stopthesteal': 3, 'culture': 3, 'ready': 3, 'past': 3, 'follower': 3, 'absolutely': 3, 'left': 3, 'greed': 3, 'double': 3, 'talk': 3, 'handout': 3, 'difference': 3, 'created': 3, 'constitutional': 3, 'thread': 3, 'read': 3, 'maga': 3, 'pardoning': 3, 'intelligence': 3, 'cool': 3, 'finally': 3, 'easier': 3, 'little': 3, 'flight': 3, 'gameweek': 3, 'assist': 3, '#fpl': 3, '#fplsu': 3, 'voice': 3, 'beginning': 3, 'blessed': 3, 'charge': 3, 'destroying': 3, 'restore': 3, 'liberate': 3, 'heaven': 3, '#freethesmiles': 3, 'command': 3, 'universe': 3, 'directed': 3, 'sovereign': 3, 'sacred': 3, 'speak': 3, 'hater': 3, 'till': 3, 'fake': 3, 'vice': 3, 'elected': 3, 'serve': 3, 'invoke': 3, 'asked': 3, 'willing': 3, 'share': 3, 'join': 3, 'supported': 3, 'latest': 3, 'billion': 3, 'terrible': 3, 'fired': 3, 'netflix': 3, 'california': 3, 'slavery': 3, 'wonderful': 3, 'young': 3, 'miracle': 3, 'item': 3, 'proven': 3, 'decision': 3, 'bunch': 3, 'story': 3, 'hurt': 3, 'destroy': 3, 'commie': 3, 'started': 3, 'illegal': 3, 'alien': 3, 'taxpayer': 3, 'chair': 3, 'prefer': 3, 'wake': 3, 'five': 3, 'tribe': 3, 'activist': 3, 'night': 3, 'screw': 3, 'revenge': 3, 'form': 3, 'understand': 3, 'common': 3, 'corporate': 3, 'divide': 3, 'chose': 3, 'unfortunately': 3, 'security': 3, 'respect': 3, 'override': 3, 'orange': 3, 'drained': 3, 'complain': 3, 'tonight': 3, 'provide': 3, 'following': 3, 'packed': 3, 'spending': 3, '#gop': 3, 'sharia': 3, 'record': 3, 'wanted': 3, 'father': 3, 'single': 3, 'almost': 3, 'showed': 3, 'popular': 3, 'acquitted': 3, 'george': 3, 'king': 3, 'book': 3, 'convicted': 3, 'plus': 3, 'period': 3, 'pathetic': 3, 'meet': 3, 'checked': 3, 'braced': 3, 'final': 3, 'nears': 3, 'anywhere': 3, 'unless': 3, 'link': 3, 'wish': 3, 'collusion': 3, 'pushed': 3, 'aldi': 3, 'scumbag': 3, 'piece': 3, 'hitler': 3, 'answer': 3, 'destruction': 3, 'destroyed': 3, 'surprise': 3, 'neither': 3, 'sense': 3, 'race': 3, 'nazi': 3, 'thriving': 3, 'helped': 3, 'blow': 3, 'hoax': 3, 'general': 3, 'data': 3, 'guilty': 3, 'process': 3, 'railroad': 3, 'clown': 3, 'game': 3, 'wall': 3, 'facing': 3, 'presidential': 3, 'build': 3, 'yall': 3, 'clean': 3, 'prove': 3, 'deserve': 3, 'trusted': 3, 'died': 3, 'feeling': 3, 'hour': 3, 'discovered': 3, 'involved': 3, 'small': 3, 'storm': 3, 'feel': 3, 'okay': 3, 'worker': 3, 'inequality': 3, 'kind': 3, 'held': 3, 'accountable': 3, 'correct': 3, 'freedom': 3, 'happening': 3, '#americans': 3, 'britain': 3, 'eddie': 3, 'certified': 3, 'move': 3, 'york': 3, 'reason': 3, 'wear': 3, 'accent': 3, 'peace': 3, 'wishing': 3, 'visit': 3, 'false': 3, '#epl': 2, 'runner': 2, 'price': 2, 'terrorism': 2, '#democrats': 2, 'tomorrow': 2, 'retweeted': 2, 'theater': 2, 'farce': 2, 'gain': 2, '#americafirst': 2, 'together': 2, 'focus': 2, 'investigation': 2, 'economy': 2, 'fooled': 2, 'connor': 2, 'wife': 2, 'bringing': 2, 'glad': 2, 'sell': 2, 'decided': 2, 'required': 2, 'marvel': 2, 'current': 2, 'financial': 2, 'expensive': 2, 'biggs': 2, 'embarrassment': 2, 'arizona': 2, 'radical': 2, 'beyond': 2, 'camar': 2, 'charles': 2, 'kushner': 2, 'sleep': 2, 'divided': 2, 'whose': 2, 'letter': 2, 'title': 2, 'radio': 2, 'given': 2, 'listened': 2, 'stronger': 2, 'brought': 2, 'earned': 2, 'version': 2, 'eastern': 2, 'circle': 2, 'celebrate': 2, 'vile': 2, 'endure': 2, 'worship': 2, 'jesus': 2, '#stimuluscheck': 2, 'failed': 2, 'undo': 2, 'worth': 2, 'toward': 2, 'generation': 2, 'mother': 2, 'recover': 2, 'administration': 2, 'fauci': 2, 'insane': 2, 'goal': 2, 'reach': 2, 'topic': 2, 'mall': 2, 'impressive': 2, 'kicked': 2, 'parent': 2, 'church': 2, 'enter': 2, 'server': 2, 'supporting': 2, 'hulu': 2, 'sweet': 2, 'morning': 2, 'indeed': 2, 'harm': 2, 'nowhere': 2, 'iowa': 2, 'clue': 2, 'comment': 2, 'doctor': 2, 'legend': 2, 'stay': 2, 'loving': 2, 'western': 2, 'rise': 2, 'showing': 2, 'bloved': 2, 'champion': 2, 'response': 2, 'reported': 2, 'might': 2, 'dirty': 2, 'aspect': 2, 'pedestal': 2, 'classical': 2, 'building': 2, 'style': 2, 'removed': 2, 'roman': 2, 'serious': 2, 'drain': 2, 'easily': 2, 'powerful': 2, 'late': 2, 'concede': 2, 'alaskan': 2, 'forest': 2, 'body': 2, 'fire': 2, 'fixed': 2, 'coup': 2, 'calling': 2, 'finish': 2, 'british': 2, 'mutation': 2, 'based': 2, 'critical': 2, 'measure': 2, 'fail': 2, 'labor': 2, 'unemployed': 2, 'unemployment': 2, 'conservative': 2, 'socialism': 2, 'certain': 2, 'representing': 2, 'omfg': 2, 'courtesy': 2, 'local': 2, 'included': 2, 'serf': 2, 'perhaps': 2, 'super': 2, 'trillion': 2, 'infection': 2, 'granted': 2, 'stone': 2, 'tiny': 2, 'whether': 2, 'arrested': 2, 'vetoing': 2, 'council': 2, 'interesting': 2, 'explain': 2, 'mostly': 2, 'abortion': 2, 'result': 2, 'owner': 2, 'strong': 2, 'front': 2, 'selfish': 2, 'chief': 2, 'fine': 2, 'protecting': 2, 'walker': 2, 'female': 2, 'felon': 2, 'television': 2, 'felt': 2, 'spew': 2, 'sasse': 2, 'jewish': 2, 'attack': 2, 'richard': 2, 'rape': 2, 'mitch': 2, 'mcconnell': 2, 'executive': 2, 'drinking': 2, 'platform': 2, 'senator': 2, 'witness': 2, 'crap': 2, 'utterly': 2, 'policy': 2, 'paid': 2, 'climate': 2, 'warnock': 2, 'light': 2, 'necessary': 2, 'damage': 2, 'economically': 2, 'camp': 2, 'gold': 2, 'customer': 2, 'break': 2, 'budget': 2, 'sent': 2, 'bring': 2, 'crisis': 2, 'selling': 2, 'profit': 2, 'east': 2, 'coward': 2, 'lindsey': 2, 'graham': 2, 'lived': 2, 'lifetime': 2, 'disgraced': 2, 'representation': 2, 'taught': 2, 'acknowledging': 2, 'contribution': 2, 'area': 2, 'elsewhere': 2, 'darker': 2, 'tough': 2, 'illegally': 2, 'actual': 2, 'caste': 2, 'experience': 2, 'saving': 2, 'dirk': 2, 'possibly': 2, 'arguing': 2, 'potus': 2, 'including': 2, 'program': 2, 'quit': 2, 'govt': 2, 'respond': 2, 'conman': 2, 'artist': 2, 'named': 2, 'happens': 2, 'elect': 2, 'blackwater': 2, 'shithole': 2, 'association': 2, 'filipino': 2, 'scientist': 2, 'recent': 2, 'tagging': 2, 'agham': 2, 'word': 2, 'meant': 2, 'blood': 2, 'brian': 2, 'saved': 2, 'turning': 2, 'ashamed': 2, 'senile': 2, 'laughing': 2, 'stock': 2, 'bend': 2, 'store': 2, 'written': 2, 'chosen': 2, 'straight': 2, 'proverbial': 2, 'predicament': 2, 'weakness': 2, 'offc': 2, 'public': 2, 'trailer': 2, 'officially': 2, 'follow': 2, 'told': 2, 'morally': 2, 'decent': 2, 'deplorable': 2, 'crazy': 2, 'shutdown': 2, 'celebrates': 2, 'legacy': 2, 'central': 2, 'salary': 2, 'position': 2, 'third': 2, 'piss': 2, 'cohort': 2, 'oath': 2, 'bounty': 2, 'paul': 2, 'canadian': 2, 'pray': 2, 'beat': 2, 'soon': 2, 'complete': 2, 'struggling': 2, 'survive': 2, 'mayor': 2, 'unamerican': 2, 'incredibly': 2, 'infrastructure': 2, 'governor': 2, '#healthcare': 2, 'appreciation': 2, '#freedom': 2, 'mention': 2, 'apparently': 2, 'science': 2, 'special': 2, 'express': 2, 'stopping': 2, 'politically': 2, 'huge': 2, 'bombing': 2, 'mode': 2, 'losing': 2, 'eliminate': 2, 'afraid': 2, 'reborn': 2, 'enforcement': 2, 'sequel': 2, 'learned': 2, 'matter': 2, 'privileged': 2, 'anybody': 2, 'scum': 2, 'shoot': 2, 'daily': 2, 'color': 2, 'globalist': 2, 'knowledge': 2, 'suck': 2, 'hold': 2, 'seem': 2, 'troll': 2, 'leadership': 2, 'deeper': 2, 'head': 2, 'worry': 2, 'half': 2, 'buying': 2, 'holy': 2, 'important': 2, 'demacrat': 2, 'woke': 2, 'hero': 2, 'writing': 2, 'hoping': 2, 'finding': 2, 'judge': 2, 'turned': 2, 'star': 2, 'lawsuit': 2, 'terrific': 2, 'activating': 2, 'hatred': 2, 'extremist': 2, 'thirty': 2, 'dictatorship': 2, 'sacrifice': 2, 'hundred': 2, 'report': 2, 'hunter': 2, 'accomplished': 2, 'guess': 2, '#merrychristmas': 2, 'export': 2, 'robert': 2, 'stephenson': 2, 'canada': 2, 'conspiracy': 2, 'bitch': 2, 'presume': 2, 'genius': 2, 'rolling': 2, 'become': 2, 'suffering': 2, 'newly': 2, 'trust': 2, 'capitalist': 2, 'educator': 2, 'closely': 2, 'weird': 2, 'dying': 2, 'waste': 2, 'hamilton': 2, 'core': 2, 'population': 2, 'similar': 2, 'chicago': 2, 'shock': 2, 'dont': 2, 'claim': 2, 'student': 2, 'leaf': 2, 'dark': 2, 'horrible': 2, 'tuned': 2, 'cure': 2, 'nuke': 2, 'dare': 2, 'worse': 2, 'jake': 2, 'proof': 2, 'strike': 2, 'israel': 2, 'sedition': 2, 'remain': 2, 'crumb': 2, 'slowly': 2, 'vaccine': 2, 'mclovin': 2, 'haitian': 2, 'designer': 2, 'flex': 2, 'tree': 2, 'possible': 2, 'totally': 2, 'distraction': 2, 'flag': 2, 'wanna': 2, 'message': 2, 'fighting': 2, 'grateful': 2, 'opening': 2, 'former': 2, 'grifter': 2, 'gotta': 2, 'golf': 2, 'deadly': 2, 'fever': 2, 'owned': 2, 'asia': 2, 'liberal': 2, 'dominion': 2, 'wise': 2, 'sycophant': 2, 'fully': 2, 'bearcat': 2, 'ahmad': 2, 'gardner': 2, 'earns': 2, 'pair': 2, 'honor': 2, 'tired': 2, 'dangerous': 2, 'arsenio': 2, 'ball': 2, 'inept': 2, 'shift': 2, 'hail': 2, 'wolf': 2, 'acquires': 1, 'logistics': 1, 'specialist': 1, 'investor': 1, 'sweetheart': 1, 'doubting': 1, 'ultimately': 1, 'buckle': 1, 'destory': 1, 'republicon': 1, 'confederate': 1, 'islamism': 1, 'moslem': 1, 'asiatic': 1, 'screeching': 1, 'lmfaoooooo': 1, 'retirement': 1, 'nutshell': 1, 'fellow': 1, 'anons': 1, 'familia': 1, 'presented': 1, 'secretary': 1, 'education': 1, 'miguel': 1, 'carona': 1, 'origin': 1, 'walk': 1, 'awful': 1, 'evicted': 1, 'repair': 1, 'precipice': 1, 'classified': 1, 'evidence': 1, 'intel': 1, 'donor': 1, '#voteblue': 1, 'remind': 1, 'decimated': 1, 'spittle': 1, '#votethemallout': 1, 'implementing': 1, 'fear': 1, 'sheep': 1, 'welcomed': 1, 'wireless': 1, 'network': 1, '#newfamilymembers': 1, '#attemployee': 1, 'despite': 1, 'indifferent': 1, '#bidenwillneverbepresident': 1, 'couple': 1, 'fascist': 1, 'bogus': 1, 'mainly': 1, 'shield': 1, 'conventional': 1, 'teutonic': 1, 'probity': 1, 'supremely': 1, 'autistic': 1, 'perfect': 1, 'occasion': 1, 'spend': 1, 'capacity': 1, 'indebt': 1, 'tale': 1, 'virtually': 1, 'limitless': 1, 'cheque': 1, 'worked': 1, 'andy': 1, 'whoever': 1, 'crushed': 1, 'communism': 1, 'punk': 1, 'raise': 1, 'talked': 1, '#soonertwitter': 1, 'dream': 1, 'nightmare': 1, 'prior': 1, 'confucius': 1, 'attendant': 1, 'hooch': 1, 'werner': 1, '#cfc': 1, '#atozbest': 1, 'salbum': 1, 'wildcard': 1, 'wavelength': 1, 'morrison': 1, 'track': 1, 'frankfurt': 1, 'broadcasted': 1, 'music': 1, 'insight': 1, 'semper': 1, '#freedomxit': 1, 'lieing': 1, 'posted': 1, 'rather': 1, 'retweet': 1, 'violence': 1, 'civilian': 1, 'aggressively': 1, 'ignored': 1, 'inner': 1, 'escaping': 1, 'funneled': 1, 'pocketbook': 1, 'gang': 1, 'curse': 1, 'barr': 1, 'ridiculous': 1, 'cryinnn': 1, 'christ': 1, 'sweater': 1, 'weather': 1, 'nbhd': 1, 'girl': 1, 'blur': 1, '#scotusgate': 1, '#chiefjusticeroberts': 1, '#maxwell': 1, '#stimuluschecksorstrike': 1, '#stimuluspackage': 1, 'tosaveamerica': 1, '#rogerstone': 1, 'require': 1, 'leisure': 1, 'staffer': 1, 'feminism': 1, 'progress': 1, 'equity': 1, 'lmfao': 1, 'fuckin': 1, 'trifling': 1, 'pasture': 1, 'wreaking': 1, 'anyway': 1, 'entertained': 1, 'hilarious': 1, '#stopthesteai': 1, 'encouraging': 1, 'taliban': 1, 'interference': 1, 'document': 1, 'becouse': 1, 'retweets': 1, 'thamendmentbeforewealldie': 1, 'woefully': 1, 'misinformed': 1, 'aldis': 1, 'firmino': 1, '#liverpool': 1, 'ancient': 1, 'bout': 1, 'specifically': 1, 'panel': 1, 'discussion': 1, 'weekend': 1, 'picked': 1, 'korean': 1, 'steel': 1, 'mill': 1, 'introduced': 1, 'pride': 1, 'baby': 1, 'cowardice': 1, 'hurting': 1, 'persecuted': 1, 'scrambled': 1, 'gather': 1, 'prayed': 1, 'comforted': 1, '#jesus': 1, 'idea': 1, 'breitbart': 1, 'urself': 1, 'hint': 1, '#loser': 1, 'recognize': 1, 'alice': 1, 'borderland': 1, 'amazon': 1, 'palm': 1, 'spring': 1, 'musketeer': 1, 'apple': 1, 'kirk': 1, 'cameron': 1, 'organizing': 1, 'caroling': 1, 'kudos': 1, 'community': 1, 'haha': 1, '#maskoff': 1, 'google': 1, 'unusual': 1, 'broadway': 1, 'rebecca': 1, 'luker': 1, '#pearlofhumanity': 1, 'humanity': 1, 'capital': 1, 'largely': 1, 'deconstructing': 1, 'brick': 1, 'hated': 1, 'close': 1, 'personal': 1, 'maker': 1, 'th#kag#': 1, 'complains': 1, 'unhinged': 1, 'backwards': 1, 'jared': 1, 'huac': 1, 'naughty': 1, 'conspiring': 1, 'launch': 1, 'haul': 1, 'pick': 1, 'mouth': 1, 'sincerely': 1, 'architecture': 1, 'rome': 1, 'added': 1, 'column': 1, 'logical': 1, '#fauchwitz': 1, 'choose': 1, 'hank': 1, 'costly': 1, 'imagine': 1, 'sexiest': 1, 'shop': 1, 'upset': 1, 'constantly': 1, 'belt': 1, 'bravo': 1, 'gorda': 1, 'sobering': 1, 'truthful': 1, 'howbwe': 1, 'remove': 1, 'demeaned': 1, 'traded': 1, 'dignity': 1, 'aching': 1, 'flower': 1, 'vocaloid': 1, 'satisfying': 1, 'goblet': 1, 'petty': 1, 'ignorant': 1, 'uninformed': 1, 'uninterested': 1, 'moron': 1, 'higher': 1, 'accept': 1, 'electoral': 1, 'winning': 1, 'tennessee': 1, 'debt': 1, 'collector': 1, 'opinon': 1, 'putting': 1, 'texan': 1, 'fighter': 1, 'nature': 1, 'gene': 1, 'alamo': 1, 'james': 1, 'kaepernick': 1, 'choice': 1, 'poorly': 1, 'fails': 1, 'include': 1, 'includes': 1, 'provision': 1, 'veteran': 1, 'contradicts': 1, 'effort': 1, 'kingdom': 1, 'unlimited': 1, 'collect': 1, 'overriding': 1, 'recalling': 1, 'dirt': 1, 'dirtiest': 1, 'disturbed': 1, 'alright': 1, 'ankle': 1, 'tiktoks': 1, 'scroll': 1, 'pinterest': 1, 'tingz': 1, 'ostrich': 1, 'speaks': 1, '#manafortrottentothecore': 1, '#trumpistheworstpresidentever': 1, 'acting': 1, 'owes': 1, 'bump': 1, 'digging': 1, 'pocket': 1, 'knowing': 1, 'foolish': 1, 'otherwise': 1, 'newsflash': 1, 'international': 1, 'shipping': 1, 'surface': 1, 'destination': 1, 'custom': 1, 'clearance': 1, 'pickup': 1, 'delivery': 1, 'singapore': 1, 'malaysia': 1, 'thailand': 1, 'whatsapp': 1, 'bamford': 1, '#leeds': 1, 'dine': 1, 'northridge': 1, 'grossed': 1, 'costco': 1, 'vallarta': 1, '#corporategreed': 1, 'necessarily': 1, 'fond': 1, 'expansionism': 1, 'counterbalancing': 1, 'purpose': 1, 'wasted': 1, 'distant': 1, 'locale': 1, 'pundit': 1, 'mantra': 1, 'repeated': 1, 'mindlessly': 1, 'kremlin': 1, 'clan': 1, 'manofort': 1, 'papadopolous': 1, 'mofos': 1, 'forgives': 1, 'frankly': 1, 'assimilate': 1, 'window': 1, 'commit': 1, 'forefather': 1, 'investigator': 1, 'prosecute': 1, 'warzone': 1, 'level': 1, 'immigrated': 1, 'harbor': 1, 'different': 1, 'viewpoint': 1, 'expectation': 1, 'ideal': 1, 'unique': 1, 'juxtaposition': 1, 'annoying': 1, 'minded': 1, 'brainwashed': 1, 'keywords': 1, '#stopsolitary': 1, '#solitaryequalstorture': 1, 'abandonment': 1, 'drugged': 1, 'animal': 1, 'cruel': 1, 'repulsive': 1, 'racehorse': 1, 'founder': 1, 'imagined': 1, 'amoral': 1, 'beschloss': 1, 'agent': 1, 'rock': 1, 'bottom': 1, 'pretending': 1, 'madam': 1, 'delta': 1, 'entrepreneur': 1, 'philanthropist': 1, 'recorded': 1, 'millionaire': 1, 'guinness': 1, '#herstory': 1, 'infiltrated': 1, '#savetherepublic': 1, 'noon': 1, 'laugh': 1, 'dragged': 1, 'revoke': 1, 'access': 1, 'quack': 1, 'originally': 1, 'twitted': 1, 'insanity': 1, 'tech': 1, 'allow': 1, 'communicate': 1, 'likely': 1, 'earth': 1, 'farting': 1, 'indebted': 1, 'second': 1, 'mentally': 1, 'exclusive': 1, 'blast': 1, 'grenell': 1, 'absolute': 1, 'speech': 1, 'cracking': 1, 'auditing': 1, 'readily': 1, 'available': 1, 'googled': 1, 'bofa': 1, 'site': 1, 'posting': 1, 'helpful': 1, 'stealing': 1, 'allegation': 1, 'gouging': 1, 'headline': 1, 'obstructing': 1, 'totalitarianism': 1, 'intolerance': 1, 'blind': 1, 'snowflake': 1, 'lion': 1, 'passing': 1, 'weed': 1, 'discallsfies': 1, 'schedule': 1, 'alcohol': 1, 'cigarette': 1, 'hardcore': 1, 'none': 1, 'scoff': 1, 'blatant': 1, 'criminality': 1, 'abroad': 1, 'horrifying': 1, 'experiment': 1, 'lowlife': 1, '#fuckers': 1, 'exposing': 1, 'serving': 1, 'grand': 1, 'strategy': 1, 'economic': 1, 'decently': 1, 'stake': 1, 'affordable': 1, 'reproductive': 1, 'ossoff': 1, 'tunnel': 1, '#gaforamerica': 1, '#wtpblue': 1, '#wtp': 1, 'spiritually': 1, 'risk': 1, 'childish': 1, 'gambino': 1, 'sired': 1, 'signed': 1, 'collaborator': 1, 'soros': 1, 'hung': 1, 'aiding': 1, 'steve': 1, 'dress': 1, 'tony': 1, 'youtube': 1, 'poop': 1, 'civil': 1, 'manager': 1, 'slouching': 1, 'complaint': 1, 'screamed': 1, 'lazy': 1, 'moscow': 1, 'candidate': 1, 'changed': 1, 'proposed': 1, 'disrepute': 1, 'founding': 1, 'drafted': 1, 'inside': 1, 'army': 1, 'courage': 1, 'furious': 1, 'shelby': 1, 'enemy': 1, 'budding': 1, 'inmigrant': 1, 'dealing': 1, 'unacceptable': 1, 'opinion': 1, 'enclosed': 1, 'normal': 1, 'tent': 1, 'grim': 1, 'grows': 1, 'toilet': 1, 'golley': 1, 'magilla': 1, 'gorilla': 1, 'author': 1, 'insurance': 1, 'watched': 1, 'antagonist': 1, 'neck': 1, 'brave': 1, 'narrative': 1, 'awwwk': 1, 'waaarrrddd': 1, 'legitimately': 1, 'credibility': 1, 'surrogate': 1, 'clarifies': 1, 'dehumanization': 1, 'entering': 1, 'sits': 1, 'repeating': 1, 'relax': 1, 'sparky': 1, 'resist': 1, 'strongly': 1, 'recommend': 1, 'isabel': 1, 'wilkerson': 1, 'suddenly': 1, 'touch': 1, 'upon': 1, 'dalit': 1, 'primarily': 1, 'exploration': 1, 'everybody': 1, 'temp': 1, 'wage': 1, 'expectancy': 1, 'purchasing': 1, 'declining': 1, 'addition': 1, 'designed': 1, 'demoralize': 1, 'descent': 1, 'sanskrit': 1, 'sloka': 1, 'respected': 1, 'knowledgable': 1, 'warashiped': 1, 'everywhere': 1, 'deleted': 1, 'plasma': 1, 'therapy': 1, 'schwenk': 1, 'suppose': 1, 'placed': 1, 'puppet': 1, 'proper': 1, 'early': 1, 'combat': 1, 'cyber': 1, 'attacked': 1, 'weakening': 1, 'department': 1, 'jeopardy': 1, 'invaluable': 1, 'input': 1, 'knee': 1, 'peddle': 1, 'piker': 1, 'gobble': 1, 'dear': 1, 'anger': 1, 'enablers': 1, 'biggly': 1, 'tick': 1, 'tock': 1, 'choked': 1, 'pressure': 1, 'expose': 1, 'cancer': 1, 'leftism': 1, 'cough': 1, 'taxman': 1, 'suffocating': 1, 'fair': 1, 'breathe': 1, 'helm': 1, 'takei': 1, 'survivor': 1, 'concentration': 1, 'abraham': 1, 'lincoln': 1, 'alive': 1, 'roger': 1, 'toxic': 1, 'dirtbag': 1, 'shitheel': 1, 'benedict': 1, 'arnold': 1, 'fund': 1, 'raising': 1, 'asshole': 1, 'aptly': 1, 'survival': 1, 'fittest': 1, 'themself': 1, 'attitude': 1, 'torching': 1, 'spoke': 1, 'loud': 1, 'perdue': 1, 'loeffler': 1, 'pardue': 1, 'healing': 1, 'overlook': 1, 'fate': 1, 'sealed': 1, 'three': 1, 'committed': 1, '#thepenthouse': 1, 'study': 1, 'tradingview': 1, 'getters': 1, '#newhampshire': 1, '#fixit': 1, '#gettowork': 1, 'founded': 1, '#sdny': 1, 'indict': 1, '#georgia': 1, 'attention': 1, 'september': 1, 'reelected': 1, 'forgot': 1, 'stopped': 1, 'responsible': 1, 'como': 1, 'nursing': 1, 'wakening': 1, 'verdict': 1, 'trial': 1, 'bloodsport': 1, 'interfere': 1, 'indictment': 1, 'corupption': 1, 'aginest': 1, 'goverment': 1, 'falling': 1, 'nobody': 1, 'prison': 1, 'demanding': 1, 'pyramid': 1, 'torn': 1, 'slave': 1, 'railway': 1, 'promoting': 1, 'begging': 1, 'sellout': 1, 'disliked': 1, 'grocery': 1, 'stressful': 1, '#deepstate': 1, 'victor': 1, 'presentation': 1, 'suite': 1, 'erasing': 1, 'adviser': 1, 'intends': 1, 'asylum': 1, 'seeking': 1, 'attraction': 1, 'operation': 1, 'entered': 1, 'chat': 1, 'blue': 1, 'exposed': 1, 'loophole': 1, 'pres': 1, 'shld': 1, 'review': 1, 'highest': 1, 'crony': 1, 'irls': 1, 'slap': 1, 'ableism': 1, 'drop': 1, 'select': 1, 'individual': 1, 'interchangeable': 1, 'measly': 1, 'mobile': 1, 'effective': 1, 'block': 1, 'nice': 1, 'sharp': 1, 'dumpy': 1, 'abiding': 1, 'norm': 1, 'avenger': 1, 'slow': 1, 'brief': 1, 'sake': 1, 'rule': 1, 'foreigner': 1, 'create': 1, 'universal': 1, '#trumpshutdownthegovernment': 1, 'giant': 1, 'sporting': 1, 'balance': 1, 'festivus': 1, '#griftmas': 1, 'disagree': 1, 'nonessential': 1, 'lasting': 1, 'boarder': 1, 'immigration': 1, 'becuase': 1, 'assistance': 1, 'applaud': 1, 'progresive': 1, 'missing': 1, 'opened': 1, 'protection': 1, 'medical': 1, 'expense': 1, 'networth': 1, 'opposite': 1, 'softens': 1, 'bribe': 1, 'organize': 1, 'health': 1, 'instituitions': 1, 'prageru': 1, 'legit': 1, 'michelle': 1, 'campaign': 1, 'supreme': 1, 'nope': 1, 'moan': 1, 'somewhere': 1, 'grenade': 1, '#nationalsecuritylaw': 1, 'slithering': 1, '#traitorinchief': 1, 'continues': 1, 'soulless': 1, '#american': 1, '#gopcorruptionovercountry': 1, 'mexico': 1, 'forreal': 1, 'honestly': 1, 'praying': 1, 'loos': 1, 'xucked': 1, 'priority': 1, 'populist': 1, 'promise': 1, 'milk': 1, 'peep': 1, 'impossible': 1, 'busy': 1, 'stimuluscheck': 1, 'disrespectful': 1, 'funded': 1, 'project': 1, 'deserves': 1, 'faith': 1, 'overcome': 1, 'prevail': 1, 'lover': 1, 'halo': 1, 'tarnished': 1, 'strife': 1, 'grown': 1, 'ight': 1, 'pushing': 1, '#kraken': 1, 'challenge': 1, 'legally': 1, '#bidencheated': 1, '#bidencrimefamilly': 1, 'betraying': 1, 'insider': 1, 'trading': 1, 'favorite': 1, 'organization': 1, 'improve': 1, 'company': 1, 'unconstitutional': 1, 'market': 1, '#government': 1, 'rising': 1, 'requires': 1, '#usa': 1, 'shoe': 1, 'bare': 1, 'cramp': 1, 'constituent': 1, 'representative': 1, 'uphold': 1, 'showcasing': 1, 'apparent': 1, 'legislature': 1, 'initiate': 1, 'regulatory': 1, 'inhibitory': 1, 'mechanism': 1, 'discourage': 1, 'copycat': 1, 'repeat': 1, 'pavement': 1, 'personality': 1, 'league': 1, 'sport': 1, 'native': 1, 'continent': 1, 'apply': 1, 'snapped': 1, 'treasonous': 1, 'deepstate': 1, 'whistleblower': 1, '#troopsfortrump': 1, 'decline': 1, 'financially': 1, 'mistake': 1, 'rewatching': 1, 'bartlet': 1, 'shitshow': 1, 'invading': 1, 'romania': 1, 'spanish': 1, 'spain': 1, 'tiganesti': 1, 'saftica': 1, 'blog': 1, 'direct': 1, 'sampling': 1, 'random': 1, 'wire': 1, '#dxing': 1, '#drmlog': 1, 'thumb': 1, 'cast': 1, 'belong': 1, '#notoredtagging': 1, '#junkterrorlaw': 1, 'sudden': 1, 'pretend': 1, 'cared': 1, 'grudge': 1, 'bench': 1, 'blackmailed': 1, 'category': 1, 'aussie': 1, 'bnwo': 1, 'looked': 1, 'blacked': 1, 'breed': 1, 'hehe': 1, 'lyndon': 1, 'johnson': 1, 'eloquently': 1, 'jacked': 1, 'vietnam': 1, 'counter': 1, 'fueled': 1, 'youth': 1, 'ldrs': 1, 'view': 1, 'moment': 1, 'violent': 1, 'unforgiving': 1, 'compared': 1, 'korea': 1, 'brutal': 1, 'embarrassed': 1, 'claiming': 1, 'scumbags': 1, 'starve': 1, 'fcking': 1, '#goldenglobes': 1, 'hfpa': 1, 'deadass': 1, 'spirit': 1, 'preserve': 1, '#gopseditioustraitors': 1, '#seditiousgop': 1, 'float': 1, 'humiliating': 1, 'hypocrite': 1, 'property': 1, 'looter': 1, 'loot': 1, 'hippa': 1, 'violated': 1, 'entity': 1, 'requirement': 1, 'luck': 1, 'alert': 1, 'revolution': 1, 'strategist': 1, 'promoter': 1, 'ugly': 1, 'contrast': 1, 'consolation': 1, 'brandon': 1, 'bernard': 1, 'suffer': 1, 'planning': 1, 'sadistic': 1, 'gratification': 1, 'sabotage': 1, 'asian': 1, 'rain': 1, 'wealthy': 1, 'connected': 1, 'rugged': 1, 'individualism': 1, 'inherent': 1, 'nlock': 1, 'thsts': 1, 'exsvtly': 1, 'hesd': 1, 'libs': 1, 'rofl': 1, 'desert': 1, 'mess': 1, 'update': 1, 'safe': 1, '#prayforrush': 1, 'firmly': 1, 'corner': 1, 'apprentice': 1, 'counting': 1, 'success': 1, 'relationship': 1, 'clinton': 1, 'coding': 1, 'wider': 1, 'arrest': 1, 'circus': 1, 'praising': 1, 'among': 1, 'glory': 1, 'catholic': 1, 'womb': 1, 'mortal': 1, 'cringe': 1, 'religious': 1, 'definitely': 1, 'sadly': 1, 'mentioned': 1, 'mainstream': 1, 'hiding': 1, 'bias': 1, 'treated': 1, 'frontline': 1, 'homegrown': 1, 'horror': 1, 'painful': 1, 'emotion': 1, 'dano': 1, 'journalist': 1, 'photographing': 1, 'covering': 1, 'blanket': 1, 'pretty': 1, 'mehdi': 1, 'hassan': 1, 'minus': 1, 'golfing': 1, 'suffers': 1, 'lopez': 1, 'marxist': 1, 'continue': 1, 'enlist': 1, 'unity': 1, 'planned': 1, 'puerto': 1, 'ricans': 1, 'releasing': 1, 'rapist': 1, 'pedos': 1, 'louis': 1, 'halloween': 1, 'sequence': 1, 'mischievous': 1, 'tootie': 1, '#meetmeinstlouis': 1, '#tcmparty': 1, 'hosting': 1, 'drunk': 1, 'nurse': 1, 'productive': 1, 'provider': 1, 'pack': 1, 'flavor': 1, 'ground': 1, '#trumpterrorism': 1, 'flynn': 1, 'ofthe': 1, '#traitortrump': 1, 'emerged': 1, 'putrid': 1, 'followed': 1, 'uneducated': 1, 'bark': 1, 'bite': 1, 'cuomo': 1, 'speaking': 1, 'rotten': 1, 'trek': 1, 'logo': 1, 'eventually': 1, 'starving': 1, 'governed': 1, 'kinder': 1, 'pinch': 1, 'dreaming': 1, 'plenty': 1, 'coincidence': 1, 'australia': 1, 'cuhz': 1, 'adult': 1, 'asking': 1, 'electing': 1, 'bitching': 1, 'flip': 1, 'myth': 1, 'reagan': 1, 'rumor': 1, 'vibe': 1, 'winner': 1, 'closest': 1, 'reviled': 1, 'flat': 1, 'tire': 1, 'road': 1, 'snow': 1, 'scorp': 1, 'igbo': 1, '#tiktok': 1, 'pregnant': 1, '#healthcareheroes': 1, 'cull': 1, '#vaccinate': 1, '#nurses': 1, 'perpetraiting': 1, 'expected': 1, 'rose': 1, 'stimmy': 1, 'resides': 1, 'judgment': 1, 'mark': 1, 'beast': 1, 'surely': 1, 'depressing': 1, 'precious': 1, 'fanta': 1, 'soda': 1, 'allowing': 1, 'bird': 1, 'peripheral': 1, 'vision': 1, 'sleezy': 1, 'demo': 1, 'reaching': 1, 'phone': 1, 'device': 1, 'warped': 1, 'lied': 1, 'mueller': 1, 'smart': 1, 'simple': 1, 'blocked': 1, 'room': 1, 'govern': 1, '#congressisbroken': 1, '#brokenus': 1, 'town': 1, 'signing': 1, 'fearless': 1, 'testicular': 1, 'fortitude': 1, 'butthole': 1, 'heard': 1, 'locos': 1, 'dorchester': 1, 'creator': 1, 'rocket': 1, 'exported': 1, 'bruh': 1, 'buffalo': 1, 'pizza': 1, 'char': 1, 'pepperoni': 1, 'thick': 1, 'dough': 1, 'cheese': 1, 'sauce': 1, 'pleaded': 1, 'concern': 1, 'date': 1, 'talented': 1, 'periodic': 1, 'replaced': 1, 'tool': 1, 'replacing': 1, 'recalcitrant': 1, 'probably': 1, 'norbit': 1, 'nutty': 1, 'professor': 1, 'corny': 1, 'forced': 1, 'ruin': 1, 'classic': 1, 'effect': 1, 'prescribes': 1, 'essentially': 1, 'invitation': 1, 'tender': 1, 'accordingly': 1, 'happily': 1, 'deficit': 1, 'incompetence': 1, 'voter': 1, 'suppression': 1, 'abuse': 1, 'plight': 1, 'travesty': 1, 'connection': 1, 'skate': 1, 'pillage': 1, 'plunder': 1, 'sentence': 1, 'vacated': 1, 'swift': 1, 'vengeance': 1, 'however': 1, 'diplomatic': 1, 'parlance': 1, 'perpetuate': 1, 'exploitation': 1, 'directly': 1, 'graf': 1, 'christianity': 1, 'trilogy': 1, 'mormon': 1, 'southpark': 1, 'episode': 1, 'explains': 1, 'basically': 1, 'completely': 1, 'delusional': 1, 'payer': 1, 'detected': 1, 'virus': 1, 'freak': 1, 'instance': 1, 'disgraceful': 1, 'sworn': 1, 'naturally': 1, 'swiftly': 1, 'quash': 1, 'supplied': 1, 'procured': 1, 'loan': 1, 'course': 1, 'wink': 1, 'gentle': 1, 'billboard': 1, 'song': 1, 'secret': 1, 'number': 1, 'echo': 1, 'inspired': 1, 'film': 1, 'paris': 1, 'portion': 1, 'troop': 1, 'confined': 1, 'traveled': 1, 'ship': 1, 'cruise': 1, 'elderly': 1, 'passenger': 1, 'crew': 1, 'handful': 1, 'insignificant': 1, 'badass': 1, 'sound': 1, 'consent': 1, 'ninijas': 1, '#pence': 1, 'worrying': 1, 'honorable': 1, 'alexander': 1, 'rebuild': 1, 'rein': 1, 'versus': 1, 'principle': 1, 'economics': 1, 'taiwan': 1, 'distribution': 1, 'vaguely': 1, 'german': 1, 'rhine': 1, 'anjanette': 1, 'sunday': 1, 'grit': 1, 'grace': 1, 'region': 1, 'throughout': 1, '#perseverance': 1, '#grit': 1, '#wegotthis': 1, 'buck': 1, 'thats': 1, 'cover': 1, 'rent': 1, 'shity': 1, 'michigan': 1, 'arrogant': 1, 'uncritical': 1, 'looking': 1, 'justify': 1, 'successful': 1, 'ease': 1, 'countryman': 1, '#wwii': 1, 'enable': 1, 'spite': 1, 'occasional': 1, 'flash': 1, 'sanity': 1, 'screwing': 1, 'stimulates': 1, 'thatpresident': 1, 'soul': 1, 'praise': 1, 'lord': 1, 'chile': 1, 'tune': 1, 'knob': 1, 'trigger': 1, 'maher': 1, 'feed': 1, 'picture': 1, 'nigeria': 1, 'differ': 1, 'unable': 1, 'whine': 1, 'faux': 1, 'retire': 1, 'handicap': 1, 'gtfoh': 1, 'addressing': 1, '#trumpvirus': 1, 'currently': 1, 'ravaging': 1, 'proliferation': 1, 'advanced': 1, 'nuclear': 1, 'reminding': 1, 'ethically': 1, 'abused': 1, 'page': 1, 'retarded': 1, 'dumb': 1, 'adam': 1, 'melissa': 1, 'anime': 1, 'palestine': 1, 'france': 1, 'thin': 1, 'oppressing': 1, 'palestinian': 1, 'erryone': 1, 'trav': 1, 'darkest': 1, 'ghost': 1, 'worn': 1, 'fool': 1, 'failure': 1, 'hack': 1, 'useful': 1, 'dims': 1, 'imprisoned': 1, 'totalitarian': 1, 'zombie': 1, '#kag': 1, 'plundered': 1, 'observe': 1, 'vaccinated': 1, 'traced': 1, 'behave': 1, 'monitored': 1, 'credit': 1, 'nuevo': 1, 'crypto': 1, 'perplexed': 1, 'concerned': 1, 'technically': 1, 'kick': 1, 'orgs': 1, 'proving': 1, 'revolutionary': 1, 'potential': 1, 'describing': 1, 'biology': 1, '#notaxationwithoutrepresentation': 1, 'marie': 1, 'antoinette': 1, 'cream': 1, 'lose': 1, 'criticizes': 1, 'blame': 1, 'reality': 1, 'criticizing': 1, 'blaming': 1, 'needed': 1, '#wednesdays': 1, 'wildlife': 1, 'lowland': 1, 'tapir': 1, 'mammal': 1, 'extant': 1, 'endangered': 1, 'residential': 1, 'agricultural': 1, 'development': 1, 'endorse': 1, 'antisemitism': 1, 'player': 1, 'acknowledge': 1, 'existence': 1, 'replying': 1, 'cult': 1, 'obsession': 1, 'poster': 1, 'becomes': 1, 'private': 1, 'hide': 1, 'behind': 1, 'presidency': 1, 'prays': 1, 'egregious': 1, 'betrayal': 1, 'closed': 1, 'permanently': 1, 'partly': 1, 'withholding': 1, 'behavior': 1, 'amid': 1, 'soaring': 1, 'district': 1, 'hood': 1, 'upvcity': 1, 'jennifer': 1, 'appreciate': 1, 'dedication': 1, 'securing': 1, '#codeofvets': 1, 'honey': 1, 'bribery': 1, 'graft': 1, 'certify': 1, 'slate': 1, 'toast': 1, 'motion': 1, 'kemp': 1, 'forever': 1, 'daughter': 1, 'boyfriend': 1, 'thief': 1, 'perpetually': 1, 'engage': 1, 'lucrative': 1, 'investment': 1, 'waking': 1, 'grant': 1, 'finger': 1, 'debatable': 1, 'lobbyist': 1, '#ohleg': 1, 'investigated': 1, '#tre': 1, 'definition': 1, 'ability': 1, 'suit': 1, 'phrase': 1, 'authoritarian': 1, 'oppression': 1, '#liarinchief': 1, 'tainted': 1, 'bigger': 1, 'doings': 1, 'background': 1, 'passed': 1, 'litre': 1, 'murica': 1, 'yehabs': 1, 'pledge': 1, 'allegiancd': 1, 'pamela': 1, 'geller': 1, 'deniro': 1, 'denounces': 1, 'crystal': 1, 'harris': 1, 'openly': 1, 'lgbtq': 1, 'wrath': 1, 'pestilence': 1, 'plague': 1, 'wickedness': 1, 'protect': 1, 'chart': 1, 'rapidly': 1, 'insulin': 1, 'increased': 1, 'downright': 1, 'barbaric': 1, 'standard': 1, 'dystopian': 1, 'pissed': 1, 'intended': 1, 'jerk': 1, 'dictator': 1, 'magat': 1, 'demonstrating': 1, 'oblivion': 1, 'lamp': 1, 'water': 1, 'mattis': 1, 'trash': 1, 'firm': 1, 'southern': 1, 'largest': 1, 'texas': 1, 'closing': 1, 'four': 1, 'contractor': 1, '#iraq': 1, 'panic': 1, 'interested': 1, 'jailing': 1, 'forcing': 1, 'rushed': 1, 'overrun': 1, 'mixed': 1, 'lobby': 1, 'infringement': 1, 'accusing': 1, 'changing': 1, 'mere': 1, 'chill': 1, 'jenna': 1, 'elli': 1, 'understands': 1, 'passion': 1, 'whopdee': 1, 'hear': 1, 'nigga': 1, 'dislike': 1, 'imbecile': 1, 'ensure': 1, 'focused': 1, 'option': 1, 'wisely': 1, 'timely': 1, 'quid': 1, 'delusion': 1, 'projection': 1, 'simply': 1, 'crooked': 1, 'bipartisan': 1, 'undeserved': 1, 'everyday': 1, 'insist': 1, 'demonstrate': 1, 'teacher': 1, 'union': 1, 'holding': 1, 'hostage': 1, 'guardian': 1, '#january': 1, 'frustrated': 1, 'baaki': 1, 'edmonton': 1, 'iske': 1, 'aage': 1, 'bhar': 1, 'regarding': 1, 'glados': 1, 'moxxis': 1, 'fantastic': 1, 'revisiting': 1, 'fixing': 1, 'prioritizes': 1, 'whiniest': 1, 'listening': 1, 'fcked': 1, 'educated': 1, 'ignoranant': 1, 'congratulation': 1, 'list': 1, 'santa': 1, 'rope': 1, 'settle': 1, 'pwnce': 1, 'alleged': 1, 'principled': 1, 'exist': 1, 'package': 1, 'begin': 1, 'bcuz': 1, 'obviously': 1, 'highly': 1, 'underrated': 1, 'creeping': 1, 'downfall': 1, 'mass': 1, 'roam': 1, 'hmmm': 1, 'swear': 1, 'dumbing': 1, 'petey': 1, 'foolishness': 1, 'prancing': 1, 'pothole': 1, 'indiana': 1, 'punchable': 1, 'stomach': 1, 'hating': 1, 'hardest': 1, 'whats': 1, 'consequence': 1, 'professional': 1, 'wannabe': 1, 'boogaloo': 1, 'bois': 1, 'bundy': 1, 'enacting': 1, '#globalists': 1, 'surviving': 1, 'stellar': 1, 'voting': 1, 'machine': 1, 'mutant': 1, 'strain': 1, '#wearyourfuckingmask': 1, '#nochinstraps': 1, '#senmikelee': 1, 'slimy': 1, 'handed': 1, 'write': 1, 'offs': 1, 'iranian': 1, 'germ': 1, 'infested': 1, 'hang': 1, 'accusation': 1, 'travelled': 1, 'poorer': 1, 'fortunate': 1, 'oligarchy': 1, '#byebyepelosi': 1, 'declassify': 1, 'brilliant': 1, 'rigorous': 1, 'assume': 1, 'banned': 1, 'lethal': 1, 'meritocracy': 1, 'hoard': 1, 'analysis': 1, 'global': 1, 'belgium': 1, 'outside': 1, 'established': 1, 'killer': 1, 'chris': 1, 'shes': 1, 'foreinger': 1, 'identity': 1, 'expect': 1, 'repatriation': 1, '#veto': 1, '#stimulusbill': 1, 'stupidity': 1, 'mofo': 1, 'demented': 1, 'sociopath': 1, 'collective': 1, 'breakfast': 1, 'settlement': 1, 'amount': 1, 'participating': 1, 'value': 1, 'privilege': 1, 'clitons': 1, 'crook': 1, 'iraq': 1, 'warmongering': 1, 'randomly': 1, 'selected': 1, 'dismissed': 1, 'hearing': 1, 'testimony': 1, 'injustice': 1, 'succeeded': 1, 'filing': 1, 'technicality': 1, 'court': 1, '#messagefor': 1, 'violates': 1, 'decency': 1, 'forgive': 1, 'lowered': 1, 'premiering': 1, 'liked': 1, 'trustworthy': 1, 'telling': 1, 'silence': 1, 'meditation': 1, 'resistance': 1, 'savior': 1, '#god': 1, '#christian': 1, '#bible': 1, '#oldtestament': 1, '#blessing': 1, 'massive': 1, 'breach': 1, 'unforced': 1, 'error': 1, 'suspected': 1, 'hacker': 1, 'avoid': 1, 'revenue': 1, 'restaurant': 1, 'advice': 1, 'intellect': 1, 'conversation': 1, '#locallove': 1, 'puppy': 1, 'frozen': 1, 'yukon': 1, 'permafrost': 1, 'preserved': 1, 'researcher': 1, 'migrated': 1, 'betrayed': 1, 'murphy': 1, 'hall': 1, 'debate': 1, 'fawning': 1, 'impeached': 1, 'exchange': 1, 'scene': 1, 'wayne': 1, 'dern': 1, 'berkeley': 1, 'obstruction': 1, 'proceeding': 1, 'tampering': 1, 'count': 1, 'burning': 1, 'paycheck': 1, 'ongoingptsd': 1, 'congressional': 1, 'politics': 1, 'frumpy': 1, 'senatorial': 1, 'buffoon': 1, 'escalator': 1, 'continued': 1, 'unabated': 1, 'magot': 1, '#gopdomesticterrorists': 1, 'wide': 1, 'beating': 1, 'faced': 1, 'pony': 1, 'raphael': 1, 'actor': 1, 'creepy': 1, 'batman': 1, 'patriotism': 1, 'elite': 1, 'funzies': 1, '#vetothebill': 1, 'editor': 1, 'minute': 1, 'became': 1, '#impotus': 1})\n"
     ]
    }
   ],
   "source": [
    "#count the words and count how many times they have been repeated\n",
    "from collections import Counter\n",
    "results = Counter()\n",
    "df_tweet['Clean_Tweet_no_stop_words'].str.lower().str.split().apply(results.update)\n",
    "print(results)"
   ]
  },
  {
   "cell_type": "code",
   "execution_count": 282,
   "metadata": {},
   "outputs": [],
   "source": [
    "#Creating a dataframe for common words\n",
    "common_words = pd.DataFrame(results.items())"
   ]
  },
  {
   "cell_type": "code",
   "execution_count": 283,
   "metadata": {},
   "outputs": [
    {
     "data": {
      "text/html": [
       "<div>\n",
       "<style scoped>\n",
       "    .dataframe tbody tr th:only-of-type {\n",
       "        vertical-align: middle;\n",
       "    }\n",
       "\n",
       "    .dataframe tbody tr th {\n",
       "        vertical-align: top;\n",
       "    }\n",
       "\n",
       "    .dataframe thead th {\n",
       "        text-align: right;\n",
       "    }\n",
       "</style>\n",
       "<table border=\"1\" class=\"dataframe\">\n",
       "  <thead>\n",
       "    <tr style=\"text-align: right;\">\n",
       "      <th></th>\n",
       "      <th>0</th>\n",
       "      <th>1</th>\n",
       "    </tr>\n",
       "  </thead>\n",
       "  <tbody>\n",
       "    <tr>\n",
       "      <th>6</th>\n",
       "      <td>america</td>\n",
       "      <td>651</td>\n",
       "    </tr>\n",
       "    <tr>\n",
       "      <th>73</th>\n",
       "      <td>trump</td>\n",
       "      <td>115</td>\n",
       "    </tr>\n",
       "    <tr>\n",
       "      <th>115</th>\n",
       "      <td>american</td>\n",
       "      <td>74</td>\n",
       "    </tr>\n",
       "    <tr>\n",
       "      <th>77</th>\n",
       "      <td>people</td>\n",
       "      <td>72</td>\n",
       "    </tr>\n",
       "    <tr>\n",
       "      <th>216</th>\n",
       "      <td>president</td>\n",
       "      <td>56</td>\n",
       "    </tr>\n",
       "  </tbody>\n",
       "</table>\n",
       "</div>"
      ],
      "text/plain": [
       "             0    1\n",
       "6      america  651\n",
       "73       trump  115\n",
       "115   american   74\n",
       "77      people   72\n",
       "216  president   56"
      ]
     },
     "execution_count": 283,
     "metadata": {},
     "output_type": "execute_result"
    }
   ],
   "source": [
    "#Common words sorted\n",
    "common_words_sorted = common_words.sort_values(by = [1], ascending = False).head(10)\n",
    "common_words_sorted.head(5)"
   ]
  },
  {
   "cell_type": "code",
   "execution_count": 284,
   "metadata": {},
   "outputs": [
    {
     "data": {
      "text/plain": [
       "Text(0.5, 1.0, \"Common words on twitter on Dec 23rd 2020 if you search 'America'\")"
      ]
     },
     "execution_count": 284,
     "metadata": {},
     "output_type": "execute_result"
    },
    {
     "data": {
      "image/png": "[encoded data removed]",
      "text/plain": [
       "<Figure size 432x288 with 1 Axes>"
      ]
     },
     "metadata": {
      "needs_background": "light"
     },
     "output_type": "display_data"
    }
   ],
   "source": [
    "#Create a bar chart for top 10 words repeated most\n",
    "plt.bar(common_words_sorted[0], common_words_sorted[1], color = 'blue')\n",
    "plt.xticks(rotation = 'vertical', color = 'blue')\n",
    "plt.xlabel(\"COMMON WORDS\", color = 'blue')\n",
    "plt.ylabel(\"REPETITION COUNT\", color = 'blue')\n",
    "plt.title(\"Common words on twitter on Dec 23rd 2020 if you search 'America'\", color = 'blue')"
   ]
  },
  {
   "cell_type": "code",
   "execution_count": 285,
   "metadata": {},
   "outputs": [
    {
     "data": {
      "text/html": [
       "<div>\n",
       "<style scoped>\n",
       "    .dataframe tbody tr th:only-of-type {\n",
       "        vertical-align: middle;\n",
       "    }\n",
       "\n",
       "    .dataframe tbody tr th {\n",
       "        vertical-align: top;\n",
       "    }\n",
       "\n",
       "    .dataframe thead th {\n",
       "        text-align: right;\n",
       "    }\n",
       "</style>\n",
       "<table border=\"1\" class=\"dataframe\">\n",
       "  <thead>\n",
       "    <tr style=\"text-align: right;\">\n",
       "      <th></th>\n",
       "      <th>Tweet_Id</th>\n",
       "      <th>Hashtags</th>\n",
       "    </tr>\n",
       "  </thead>\n",
       "  <tbody>\n",
       "    <tr>\n",
       "      <th>0</th>\n",
       "      <td>1341926877754093569</td>\n",
       "      <td></td>\n",
       "    </tr>\n",
       "    <tr>\n",
       "      <th>1</th>\n",
       "      <td>1341926877754093569</td>\n",
       "      <td></td>\n",
       "    </tr>\n",
       "    <tr>\n",
       "      <th>2</th>\n",
       "      <td>1341926877754093569</td>\n",
       "      <td>fplsu</td>\n",
       "    </tr>\n",
       "    <tr>\n",
       "      <th>3</th>\n",
       "      <td>1341927136794308608</td>\n",
       "      <td></td>\n",
       "    </tr>\n",
       "    <tr>\n",
       "      <th>4</th>\n",
       "      <td>1341927136794308608</td>\n",
       "      <td>liverpool</td>\n",
       "    </tr>\n",
       "    <tr>\n",
       "      <th>5</th>\n",
       "      <td>1341927136794308608</td>\n",
       "      <td>fplsu</td>\n",
       "    </tr>\n",
       "    <tr>\n",
       "      <th>6</th>\n",
       "      <td>1341927671828078592</td>\n",
       "      <td></td>\n",
       "    </tr>\n",
       "    <tr>\n",
       "      <th>7</th>\n",
       "      <td>1341927671828078592</td>\n",
       "      <td>leeds</td>\n",
       "    </tr>\n",
       "    <tr>\n",
       "      <th>8</th>\n",
       "      <td>1341927671828078592</td>\n",
       "      <td>fplsu</td>\n",
       "    </tr>\n",
       "    <tr>\n",
       "      <th>9</th>\n",
       "      <td>1341927862832484352</td>\n",
       "      <td>atozbest salbum</td>\n",
       "    </tr>\n",
       "    <tr>\n",
       "      <th>10</th>\n",
       "      <td>1341927865776885761</td>\n",
       "      <td>corporategreed</td>\n",
       "    </tr>\n",
       "    <tr>\n",
       "      <th>11</th>\n",
       "      <td>1341927870092857345</td>\n",
       "      <td>stopthesteal</td>\n",
       "    </tr>\n",
       "    <tr>\n",
       "      <th>12</th>\n",
       "      <td>1341927871829454848</td>\n",
       "      <td>freedomxit</td>\n",
       "    </tr>\n",
       "    <tr>\n",
       "      <th>13</th>\n",
       "      <td>1341927914670071808</td>\n",
       "      <td>republican</td>\n",
       "    </tr>\n",
       "    <tr>\n",
       "      <th>14</th>\n",
       "      <td>1341927914670071808</td>\n",
       "      <td></td>\n",
       "    </tr>\n",
       "    <tr>\n",
       "      <th>15</th>\n",
       "      <td>1341927914670071808</td>\n",
       "      <td>republican</td>\n",
       "    </tr>\n",
       "    <tr>\n",
       "      <th>16</th>\n",
       "      <td>1341927914670071808</td>\n",
       "      <td>trump</td>\n",
       "    </tr>\n",
       "    <tr>\n",
       "      <th>17</th>\n",
       "      <td>1341927914670071808</td>\n",
       "      <td>covid</td>\n",
       "    </tr>\n",
       "    <tr>\n",
       "      <th>18</th>\n",
       "      <td>1341927917467656193</td>\n",
       "      <td>pencecard</td>\n",
       "    </tr>\n",
       "    <tr>\n",
       "      <th>19</th>\n",
       "      <td>1341927919350927360</td>\n",
       "      <td>jesus</td>\n",
       "    </tr>\n",
       "  </tbody>\n",
       "</table>\n",
       "</div>"
      ],
      "text/plain": [
       "               Tweet_Id         Hashtags\n",
       "0   1341926877754093569                 \n",
       "1   1341926877754093569                 \n",
       "2   1341926877754093569            fplsu\n",
       "3   1341927136794308608                 \n",
       "4   1341927136794308608        liverpool\n",
       "5   1341927136794308608            fplsu\n",
       "6   1341927671828078592                 \n",
       "7   1341927671828078592            leeds\n",
       "8   1341927671828078592            fplsu\n",
       "9   1341927862832484352  atozbest salbum\n",
       "10  1341927865776885761   corporategreed\n",
       "11  1341927870092857345     stopthesteal\n",
       "12  1341927871829454848       freedomxit\n",
       "13  1341927914670071808       republican\n",
       "14  1341927914670071808                 \n",
       "15  1341927914670071808       republican\n",
       "16  1341927914670071808            trump\n",
       "17  1341927914670071808            covid\n",
       "18  1341927917467656193        pencecard\n",
       "19  1341927919350927360            jesus"
      ]
     },
     "execution_count": 285,
     "metadata": {},
     "output_type": "execute_result"
    }
   ],
   "source": [
    "# Querying hashtags from database\n",
    "data_tags = DbConnect(\"SELECT Tweet_Id, Hashtag FROM TwitterEntity;\")\n",
    "\n",
    "df_tags = pd.DataFrame(columns=['Tweet_Id','Hashtags'])\n",
    "\n",
    "for data in data_tags:\n",
    "    index = len(df_tags)\n",
    "    df_tags.loc[index,'Tweet_Id'] = data[0]\n",
    "    df_tags.loc[index,'Hashtags'] = preprocess(data[1])\n",
    "    \n",
    "df_tags.head(20)"
   ]
  },
  {
   "cell_type": "code",
   "execution_count": 286,
   "metadata": {},
   "outputs": [
    {
     "data": {
      "text/html": [
       "<div>\n",
       "<style scoped>\n",
       "    .dataframe tbody tr th:only-of-type {\n",
       "        vertical-align: middle;\n",
       "    }\n",
       "\n",
       "    .dataframe tbody tr th {\n",
       "        vertical-align: top;\n",
       "    }\n",
       "\n",
       "    .dataframe thead th {\n",
       "        text-align: right;\n",
       "    }\n",
       "</style>\n",
       "<table border=\"1\" class=\"dataframe\">\n",
       "  <thead>\n",
       "    <tr style=\"text-align: right;\">\n",
       "      <th></th>\n",
       "      <th>Hashtags</th>\n",
       "      <th>Tweet_Id</th>\n",
       "    </tr>\n",
       "  </thead>\n",
       "  <tbody>\n",
       "    <tr>\n",
       "      <th>0</th>\n",
       "      <td></td>\n",
       "      <td>17</td>\n",
       "    </tr>\n",
       "    <tr>\n",
       "      <th>1</th>\n",
       "      <td>america</td>\n",
       "      <td>8</td>\n",
       "    </tr>\n",
       "    <tr>\n",
       "      <th>2</th>\n",
       "      <td>americafirst</td>\n",
       "      <td>2</td>\n",
       "    </tr>\n",
       "    <tr>\n",
       "      <th>3</th>\n",
       "      <td>american</td>\n",
       "      <td>4</td>\n",
       "    </tr>\n",
       "    <tr>\n",
       "      <th>4</th>\n",
       "      <td>atozbest salbum</td>\n",
       "      <td>1</td>\n",
       "    </tr>\n",
       "  </tbody>\n",
       "</table>\n",
       "</div>"
      ],
      "text/plain": [
       "          Hashtags  Tweet_Id\n",
       "0                         17\n",
       "1          america         8\n",
       "2     americafirst         2\n",
       "3         american         4\n",
       "4  atozbest salbum         1"
      ]
     },
     "execution_count": 286,
     "metadata": {},
     "output_type": "execute_result"
    }
   ],
   "source": [
    "# Unique hashtag counts\n",
    "table = df_tags.pivot_table(index=\"Hashtags\",values='Tweet_Id',aggfunc=len)\n",
    "\n",
    "# Convert pivot table to dataframe\n",
    "df_pivot = pd.DataFrame(table.to_records())\n",
    "\n",
    "df_pivot.head()"
   ]
  },
  {
   "cell_type": "code",
   "execution_count": 287,
   "metadata": {},
   "outputs": [
    {
     "data": {
      "image/png": "[encoded data removed]",
      "text/plain": [
       "<Figure size 1152x360 with 1 Axes>"
      ]
     },
     "metadata": {
      "needs_background": "light"
     },
     "output_type": "display_data"
    }
   ],
   "source": [
    "data = df_pivot.nlargest(columns=\"Tweet_Id\", n = 5) \n",
    "\n",
    "# Creating bar graph\n",
    "plt.figure(figsize=(16,5))\n",
    "ax = sns.barplot(data=data, x= \"Hashtags\", y = \"Tweet_Id\", palette=(\"Reds_d\"))\n",
    "\n",
    "# Altering the visual elements\n",
    "sns.set_context(\"poster\")\n",
    "ax.set(ylabel = 'Count')\n",
    "ax.set_xticklabels(labels=ax.get_xticklabels(),rotation=70)\n",
    "\n",
    "plt.title('#Hashtags')\n",
    "\n",
    "ax.spines['top'].set_visible(False)\n",
    "ax.spines['right'].set_visible(False)\n",
    "ax.spines['bottom'].set_visible(False)\n",
    "\n",
    "# Output plot\n",
    "plt.show()"
   ]
  },
  {
   "cell_type": "code",
   "execution_count": null,
   "metadata": {},
   "outputs": [],
   "source": []
  }
 ],
 "metadata": {
  "kernelspec": {
   "display_name": "Python 3",
   "language": "python",
   "name": "python3"
  },
  "language_info": {
   "codemirror_mode": {
    "name": "ipython",
    "version": 3
   },
   "file_extension": ".py",
   "mimetype": "text/x-python",
   "name": "python",
   "nbconvert_exporter": "python",
   "pygments_lexer": "ipython3",
   "version": "3.8.3"
  }
 },
 "nbformat": 4,
 "nbformat_minor": 4
}
